{
 "cells": [
  {
   "cell_type": "code",
   "execution_count": 1,
   "id": "32b8582e",
   "metadata": {},
   "outputs": [],
   "source": [
    "import os"
   ]
  },
  {
   "cell_type": "code",
   "execution_count": 2,
   "id": "be378d94",
   "metadata": {},
   "outputs": [
    {
     "name": "stdout",
     "output_type": "stream",
     "text": [
      "C:\\Users\\HP\\Desktop\\Python\n"
     ]
    }
   ],
   "source": [
    "print(os.getcwd())"
   ]
  },
  {
   "cell_type": "code",
   "execution_count": 3,
   "id": "dcc03eda",
   "metadata": {},
   "outputs": [],
   "source": [
    "os.chdir(r\"C:\\Users\\HP\\Downloads\")"
   ]
  },
  {
   "cell_type": "code",
   "execution_count": 4,
   "id": "1c750ae9",
   "metadata": {},
   "outputs": [
    {
     "name": "stdout",
     "output_type": "stream",
     "text": [
      "C:\\Users\\HP\\Downloads\n"
     ]
    }
   ],
   "source": [
    "print(os.getcwd())"
   ]
  },
  {
   "cell_type": "code",
   "execution_count": 5,
   "id": "9ec57cff",
   "metadata": {},
   "outputs": [
    {
     "data": {
      "text/plain": [
       "['84202477-removebg-preview.png',\n",
       " '84202477.jfif',\n",
       " 'Anaconda3-2021.11-Windows-x86_64.exe',\n",
       " 'Assignment_3.docx',\n",
       " 'Assignment_4 (1).docx',\n",
       " 'Assignment_4.docx',\n",
       " 'Assignment_5.docx',\n",
       " 'azuredatastudio-windows-user-setup-1.36.2.exe',\n",
       " 'Capture.docx',\n",
       " 'CheatSheetEN_v2.pdf',\n",
       " 'Complaint_Detail_22705220010996 (1).pdf',\n",
       " 'Complaint_Detail_22705220010996.pdf',\n",
       " 'Complete Python Module-20220524T085809Z-001.zip',\n",
       " 'conda-cheatsheet.pdf',\n",
       " 'desktop.ini',\n",
       " 'DinaRemasterCollection.ttc',\n",
       " 'DinaRemasterII.ttc',\n",
       " 'Documents - Shortcut.lnk',\n",
       " 'Dodo Creation.png',\n",
       " 'download.jpg',\n",
       " 'File_Management',\n",
       " 'Fork Python.pdf',\n",
       " 'funny-alarm-48749.mp3',\n",
       " 'Git-2.36.0-64-bit.exe',\n",
       " 'GrammarlyInstaller.c3bNbk6drler6qlsd64f00g2.exe',\n",
       " 'IMG-20220125-WA0026-removebg-preview.png',\n",
       " 'inventwithpython.zip',\n",
       " 'Manual-Sewing-Machine-2-300x277-removebg-preview.png',\n",
       " 'Marriage Bio Data Format.docx',\n",
       " 'Marriage Bio Data POOJA.pdf',\n",
       " 'mixkit-warning-alarm-buzzer-991.wav',\n",
       " 'myViewBoard64_setup_2.55.1.0.msi',\n",
       " 'Needle Size_page-0001.jpg',\n",
       " 'OfficeSetup.exe',\n",
       " 'Power BI Material -Kundan (1).zip',\n",
       " 'Power BI Material -Kundan.zip',\n",
       " 'Programming_Assingment2.docx',\n",
       " 'Programming_Assingment20.docx',\n",
       " 'Programming_Assingment3.docx',\n",
       " 'Programming_Assingment4 (1).docx',\n",
       " 'Programming_Assingment4.docx',\n",
       " 'pycharm-community-2022.1.exe',\n",
       " 'Python Foundation.pdf',\n",
       " 'Python Programming_Print version - Wikibooks, open books for an open world.pdf',\n",
       " 'python-3.10.4-amd64.exe',\n",
       " 'regx.pdf',\n",
       " 'Revision and task solving (1).ipynb',\n",
       " 'sample-ravi-biodata.docx',\n",
       " 'SQL2019-SSEI-Expr.exe',\n",
       " 'SSMS-Setup-ENU.exe',\n",
       " 'terminus-font-4.49.exe',\n",
       " 'tools_page-0001.jpg',\n",
       " 'Untitled_design-removebg_edited.jpg',\n",
       " 'vertopal.com_Python_Basic_Assignment_1 .pdf',\n",
       " 'vlc-3.0.11-win64.exe',\n",
       " 'VSCodeUserSetup-x64-1.67.0.exe',\n",
       " 'Wake Wake Up Its Brand New Day.mp3',\n",
       " 'WhatsApp Image 2022-03-04 at 2.59.09 PM.jpeg',\n",
       " 'WhatsApp Image 2022-03-04 at 3.06.27 PM.jpeg',\n",
       " 'WhatsApp Image 2022-05-10 at 2.35.38 PM.jpeg',\n",
       " 'WhatsApp Image 2022-05-10 at 2.35.39 PM.jpeg',\n",
       " '~$rriage Bio Data Format.docx']"
      ]
     },
     "execution_count": 5,
     "metadata": {},
     "output_type": "execute_result"
    }
   ],
   "source": [
    "os.listdir()"
   ]
  },
  {
   "cell_type": "code",
   "execution_count": 6,
   "id": "b6eb7609",
   "metadata": {},
   "outputs": [
    {
     "name": "stdout",
     "output_type": "stream",
     "text": [
      "['png', 'jfif', 'exe', 'docx', 'docx', 'docx', 'docx', 'exe', 'docx', 'pdf', 'pdf', 'pdf', 'zip', 'pdf', 'ini', 'ttc', 'ttc', 'lnk', 'png', 'jpg', 'File_Management', 'pdf', 'mp3', 'exe', 'exe', 'png', 'zip', 'png', 'docx', 'pdf', 'wav', 'msi', 'jpg', 'exe', 'zip', 'zip', 'docx', 'docx', 'docx', 'docx', 'docx', 'exe', 'pdf', 'pdf', 'exe', 'pdf', 'ipynb', 'docx', 'exe', 'exe', 'exe', 'jpg', 'jpg', 'pdf', 'exe', 'exe', 'mp3', 'jpeg', 'jpeg', 'jpeg', 'jpeg', 'docx']\n"
     ]
    }
   ],
   "source": [
    "List_Extension=[]\n",
    "for i in os.listdir():\n",
    "    extension=i.split(\".\")[-1]\n",
    "    List_Extension.append(extension)\n",
    "print(List_Extension)    "
   ]
  },
  {
   "cell_type": "code",
   "execution_count": 7,
   "id": "3ae186c9",
   "metadata": {},
   "outputs": [],
   "source": [
    "List_Extension=set(List_Extension)"
   ]
  },
  {
   "cell_type": "code",
   "execution_count": 8,
   "id": "5e9eab26",
   "metadata": {},
   "outputs": [
    {
     "name": "stdout",
     "output_type": "stream",
     "text": [
      "{'jfif', 'png', 'exe', 'ipynb', 'msi', 'docx', 'File_Management', 'wav', 'zip', 'lnk', 'ttc', 'jpg', 'jpeg', 'ini', 'pdf', 'mp3'}\n"
     ]
    }
   ],
   "source": [
    "print(List_Extension)"
   ]
  },
  {
   "cell_type": "code",
   "execution_count": 9,
   "id": "95aa2748",
   "metadata": {},
   "outputs": [],
   "source": [
    "List_Extension=[\"docx\",'pdf','ipynb','jpg', 'mp3','zip','exe','jfif','wav','lnk','ttc',\"msi\"]"
   ]
  },
  {
   "cell_type": "code",
   "execution_count": 10,
   "id": "dfa7575e",
   "metadata": {},
   "outputs": [
    {
     "data": {
      "text/plain": [
       "12"
      ]
     },
     "execution_count": 10,
     "metadata": {},
     "output_type": "execute_result"
    }
   ],
   "source": [
    "len(List_Extension)"
   ]
  },
  {
   "cell_type": "code",
   "execution_count": 11,
   "id": "183876d9",
   "metadata": {},
   "outputs": [],
   "source": [
    "import  shutil"
   ]
  },
  {
   "cell_type": "code",
   "execution_count": 12,
   "id": "5e2321d3",
   "metadata": {},
   "outputs": [],
   "source": [
    "path=os.environ[\"UserProfile\"]+\"\\\\\"+\"Downloads\"+\"\\\\\"+\"File_Management\"\n",
    "#os.mkdir(path)\n",
    "try:\n",
    "    shutil.rmtree(path)\n",
    "    os.mkdir(path)\n",
    "except:\n",
    "    os.mkdir(path)\n",
    "\n"
   ]
  },
  {
   "cell_type": "code",
   "execution_count": 13,
   "id": "86c969b3",
   "metadata": {},
   "outputs": [
    {
     "name": "stdout",
     "output_type": "stream",
     "text": [
      "C:\\Users\\HP\\Downloads\\File_Management\n"
     ]
    }
   ],
   "source": [
    "print(path)"
   ]
  },
  {
   "cell_type": "code",
   "execution_count": 14,
   "id": "32f62b97",
   "metadata": {},
   "outputs": [],
   "source": [
    "for ex in List_Extension:\n",
    "    #print(ex,end=\",\")\n",
    "    os.mkdir(path+\"\\\\\"+ex)\n",
    "    for i in os.listdir():\n",
    "        if ex in i:\n",
    "            shutil.copy(i,path+\"\\\\\"+ex)"
   ]
  },
  {
   "cell_type": "code",
   "execution_count": null,
   "id": "9e80220a",
   "metadata": {},
   "outputs": [],
   "source": []
  }
 ],
 "metadata": {
  "kernelspec": {
   "display_name": "Python 3 (ipykernel)",
   "language": "python",
   "name": "python3"
  },
  "language_info": {
   "codemirror_mode": {
    "name": "ipython",
    "version": 3
   },
   "file_extension": ".py",
   "mimetype": "text/x-python",
   "name": "python",
   "nbconvert_exporter": "python",
   "pygments_lexer": "ipython3",
   "version": "3.9.7"
  }
 },
 "nbformat": 4,
 "nbformat_minor": 5
}
