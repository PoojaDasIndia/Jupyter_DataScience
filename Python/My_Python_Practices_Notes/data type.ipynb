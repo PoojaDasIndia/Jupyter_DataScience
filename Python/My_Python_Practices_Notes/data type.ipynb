{
 "cells": [
  {
   "cell_type": "markdown",
   "id": "760c9977",
   "metadata": {},
   "source": [
    "### Keywords\n",
    "        \n",
    "    \n",
    "    \n",
    "      Keywords are the reserved words in Python. We cannot use a keyword as a variable name, function name or any other identifier.\n",
    "      \n",
    "[Help for keyword](https://www.programiz.com/python-programming/keyword-list)      \n",
    "      "
   ]
  },
  {
   "cell_type": "code",
   "execution_count": 2,
   "id": "6128006f",
   "metadata": {},
   "outputs": [
    {
     "name": "stdout",
     "output_type": "stream",
     "text": [
      "Checking keywords we have in python\n",
      "\n",
      "['False', 'None', 'True', '__peg_parser__', 'and', 'as', 'assert', 'async', 'await', 'break', 'class', 'continue', 'def', 'del', 'elif', 'else', 'except', 'finally', 'for', 'from', 'global', 'if', 'import', 'in', 'is', 'lambda', 'nonlocal', 'not', 'or', 'pass', 'raise', 'return', 'try', 'while', 'with', 'yield']\n"
     ]
    }
   ],
   "source": [
    "print(\"Checking keywords we have in python\")\n",
    "print()\n",
    "\n",
    "import keyword #library for checking keywords where all keywords name store\n",
    "print(keyword.kwlist)#kwlist for checking keywords name\n"
   ]
  },
  {
   "cell_type": "code",
   "execution_count": 3,
   "id": "9b4d1859",
   "metadata": {},
   "outputs": [
    {
     "name": "stdout",
     "output_type": "stream",
     "text": [
      "checking no. of keyword\n",
      "36\n",
      "\n",
      "index with all keywords\n",
      "0 - False\n",
      "1 - None\n",
      "2 - True\n",
      "3 - __peg_parser__\n",
      "4 - and\n",
      "5 - as\n",
      "6 - assert\n",
      "7 - async\n",
      "8 - await\n",
      "9 - break\n",
      "10 - class\n",
      "11 - continue\n",
      "12 - def\n",
      "13 - del\n",
      "14 - elif\n",
      "15 - else\n",
      "16 - except\n",
      "17 - finally\n",
      "18 - for\n",
      "19 - from\n",
      "20 - global\n",
      "21 - if\n",
      "22 - import\n",
      "23 - in\n",
      "24 - is\n",
      "25 - lambda\n",
      "26 - nonlocal\n",
      "27 - not\n",
      "28 - or\n",
      "29 - pass\n",
      "30 - raise\n",
      "31 - return\n",
      "32 - try\n",
      "33 - while\n",
      "34 - with\n",
      "35 - yield\n"
     ]
    }
   ],
   "source": [
    "print(\"checking no. of keyword\")\n",
    "      \n",
    "print(len(keyword.kwlist))\n",
    "print()\n",
    "\n",
    "print (\"index with all keywords\")\n",
    "\n",
    "for i in range(len(keyword.kwlist)):\n",
    "    print(i,\"-\",keyword.kwlist[i])"
   ]
  },
  {
   "cell_type": "code",
   "execution_count": 4,
   "id": "05ad27c4",
   "metadata": {},
   "outputs": [
    {
     "data": {
      "text/plain": [
       "True"
      ]
     },
     "execution_count": 4,
     "metadata": {},
     "output_type": "execute_result"
    }
   ],
   "source": [
    "keyword.iskeyword(\"not\") #checking wheather True or false"
   ]
  },
  {
   "cell_type": "code",
   "execution_count": 9,
   "id": "30e9d685",
   "metadata": {},
   "outputs": [
    {
     "name": "stdout",
     "output_type": "stream",
     "text": [
      "Enter any word for checking it is keyword or notimport\n",
      "\n",
      "import is keyword\n"
     ]
    }
   ],
   "source": [
    "#'iskeyword' is used for wheather paticular word is keyword or not\"\n",
    "\n",
    "value =input(\"Enter any word for checking it is keyword or not\")\n",
    "print()\n",
    "c=keyword.iskeyword(value)\n",
    "if c==True:\n",
    "    print(\"{} is keyword\".format(value)) \n",
    "else:  \n",
    "    print(\"{} is not keyword\".format(value))"
   ]
  },
  {
   "cell_type": "code",
   "execution_count": 11,
   "id": "4fa78aa4",
   "metadata": {},
   "outputs": [
    {
     "name": "stdout",
     "output_type": "stream",
     "text": [
      "\n",
      "Here is a list of the Python keywords.  Enter any keyword to get more help.\n",
      "\n",
      "False               break               for                 not\n",
      "None                class               from                or\n",
      "True                continue            global              pass\n",
      "__peg_parser__      def                 if                  raise\n",
      "and                 del                 import              return\n",
      "as                  elif                in                  try\n",
      "assert              else                is                  while\n",
      "async               except              lambda              with\n",
      "await               finally             nonlocal            yield\n",
      "\n"
     ]
    }
   ],
   "source": [
    "help(\"keywords\")"
   ]
  },
  {
   "cell_type": "code",
   "execution_count": 18,
   "id": "de9ecd85",
   "metadata": {},
   "outputs": [
    {
     "data": {
      "text/plain": [
       "[]"
      ]
     },
     "execution_count": 18,
     "metadata": {},
     "output_type": "execute_result"
    }
   ],
   "source": [
    "keyword.softkwlist"
   ]
  },
  {
   "cell_type": "markdown",
   "id": "5efdba5d",
   "metadata": {},
   "source": [
    "### Python Statement\n",
    "    Instructions that a Python interpreter can execute are called statements. For example, a = 1 is an assignment statement. if statement, for statement, while statement, etc. are other kinds of statements which will be discussed later.\n",
    "\n",
    "    Multi-line statement\n",
    "        \n",
    "        In Python, the end of a statement is marked by a newline character. But we can make a statement extend over multiple lines with the line continuation character (\\). For example:"
   ]
  },
  {
   "cell_type": "code",
   "execution_count": 20,
   "id": "51c21722",
   "metadata": {},
   "outputs": [],
   "source": [
    "q=10\n",
    "a=\"poja\"\n",
    "a=4+5+\\\n",
    " 4+6"
   ]
  },
  {
   "cell_type": "markdown",
   "id": "e865c7f2",
   "metadata": {},
   "source": [
    "### Python Indentation\n",
    "\n",
    "        Most of the programming languages like C, C++, and Java use braces { } to define a block of code. Python, however, uses indentation.\n",
    "\n",
    "    A code block (body of a function, loop, etc.) starts with indentation and ends with the first unindented line. The amount of indentation is up to you, but it must be consistent throughout that block.\n",
    "\n",
    "    Generally, four whitespaces are used for indentation and are preferred over tabs."
   ]
  },
  {
   "cell_type": "code",
   "execution_count": 21,
   "id": "75f3aca7",
   "metadata": {},
   "outputs": [
    {
     "name": "stdout",
     "output_type": "stream",
     "text": [
      "hello\n"
     ]
    }
   ],
   "source": [
    "a=8\n",
    "if a>5:\n",
    "    print(\"hello\")"
   ]
  },
  {
   "cell_type": "markdown",
   "id": "327d29c8",
   "metadata": {},
   "source": [
    "### Docstrings in Python\n",
    "A docstring is short for documentation string.\n",
    "\n",
    "Python docstrings (documentation strings) are the string literals that appear right after the definition of a function, method, class, or module.\n",
    "\n",
    "Triple quotes are used while writing docstrings. For example:\n",
    "\n",
    "    The docstrings are associated with the object as their __doc__ attribute."
   ]
  },
  {
   "cell_type": "code",
   "execution_count": 22,
   "id": "bbaeb602",
   "metadata": {},
   "outputs": [
    {
     "name": "stdout",
     "output_type": "stream",
     "text": [
      "Function to double the value\n"
     ]
    }
   ],
   "source": [
    "def double(n):\n",
    "    \"\"\"Function to double the value\"\"\"\n",
    "    return 2*num\n",
    "print(double.__doc__)"
   ]
  },
  {
   "cell_type": "markdown",
   "id": "37c8157d",
   "metadata": {},
   "source": [
    "### Python Variables\n",
    "    A variable is a named location used to store data in the memory. It is helpful to think of variables as a container that holds data that can be changed later in the program. "
   ]
  },
  {
   "cell_type": "markdown",
   "id": "01f0bc53",
   "metadata": {},
   "source": [
    "Note: Python is a 'type-inferred'. language, so you don't have to explicitly define the variable type. It automatically knows that apple.com is a string and declares the website variable as a string."
   ]
  },
  {
   "cell_type": "code",
   "execution_count": 26,
   "id": "bc637f55",
   "metadata": {},
   "outputs": [
    {
     "name": "stdout",
     "output_type": "stream",
     "text": [
      "xyz.com 1895769331952\n",
      "xyz.com 1895769331952\n",
      "program.com 1895769097072\n"
     ]
    }
   ],
   "source": [
    "website = \"xyz.com\"\n",
    "website1=website # assigning website1 in same locsation of website\n",
    "print(website, id(website))\n",
    "\n",
    "print(website1, id(website1))\n",
    "\n",
    "# assigning a new value to website\n",
    "website = \"program.com\"\n",
    "\n",
    "print(website, id(website))"
   ]
  },
  {
   "cell_type": "markdown",
   "id": "297f40ae",
   "metadata": {},
   "source": [
    "### Data types in Python\n",
    "Every value in Python has a datatype. Since everything is an object in Python programming, data types are actually classes and variables are instance (object) of these classes."
   ]
  },
  {
   "cell_type": "markdown",
   "id": "79326803",
   "metadata": {},
   "source": [
    "###  Python Numbers\n",
    "    \n",
    " #### Integers, floating point numbers and complex numbers fall under Python numbers category. They are defined as int, float and complex classes in Python.\n",
    "\n",
    " #### We can use the type() function to know which class a variable or a value belongs to. Similarly, the isinstance() function is used to check if an object belongs to a particular class."
   ]
  },
  {
   "cell_type": "code",
   "execution_count": 33,
   "id": "cf0f2859",
   "metadata": {},
   "outputs": [
    {
     "name": "stdout",
     "output_type": "stream",
     "text": [
      "5 is of type <class 'int'>\n",
      "2.0 is of type <class 'float'>\n",
      "(1+2j) is complex number? True\n"
     ]
    }
   ],
   "source": [
    "a = 5\n",
    "print(a, \"is of type\", type(a))\n",
    "\n",
    "a = 2.0\n",
    "print(a, \"is of type\", type(a))\n",
    "\n",
    "a = 1+2j\n",
    "print(a, \"is complex number?\",isinstance(2+0j,complex))"
   ]
  },
  {
   "cell_type": "markdown",
   "id": "a1a7597c",
   "metadata": {},
   "source": [
    "### Python List\n",
    "     \n",
    "#### List is an ordered sequence of items. It is one of the most used datatype in Python and is very flexible. All the items in a list do not need to be of the same type.\n",
    "\n",
    "    Declaring a list is pretty straight forward. Items separated by commas are enclosed within brackets [ ]."
   ]
  },
  {
   "cell_type": "code",
   "execution_count": 34,
   "id": "f225d67f",
   "metadata": {},
   "outputs": [],
   "source": [
    "lst=[1,2.5,\"string\",[5.6,\"abc\"],(1,\"sib\",2)]"
   ]
  },
  {
   "cell_type": "code",
   "execution_count": 35,
   "id": "e37ef6c4",
   "metadata": {},
   "outputs": [
    {
     "data": {
      "text/plain": [
       "[1, 2.5, 'string', [5.6, 'abc'], (1, 'sib', 2)]"
      ]
     },
     "execution_count": 35,
     "metadata": {},
     "output_type": "execute_result"
    }
   ],
   "source": [
    "lst"
   ]
  },
  {
   "cell_type": "markdown",
   "id": "391760fd",
   "metadata": {},
   "source": [
    "#### We can use the slicing operator [ ] to extract an item or a range of items from a list. The index starts from 0 in Python."
   ]
  },
  {
   "cell_type": "code",
   "execution_count": 36,
   "id": "02d10b1f",
   "metadata": {},
   "outputs": [
    {
     "data": {
      "text/plain": [
       "[1, 2.5, 'string', [5.6, 'abc']]"
      ]
     },
     "execution_count": 36,
     "metadata": {},
     "output_type": "execute_result"
    }
   ],
   "source": [
    "lst[0:4]"
   ]
  },
  {
   "cell_type": "code",
   "execution_count": 37,
   "id": "db1ea270",
   "metadata": {},
   "outputs": [
    {
     "data": {
      "text/plain": [
       "[(1, 'sib', 2), [5.6, 'abc'], 'string', 2.5, 1]"
      ]
     },
     "execution_count": 37,
     "metadata": {},
     "output_type": "execute_result"
    }
   ],
   "source": [
    "lst[::-1]"
   ]
  },
  {
   "cell_type": "code",
   "execution_count": 39,
   "id": "462c173d",
   "metadata": {},
   "outputs": [
    {
     "data": {
      "text/plain": [
       "[1, 2.5, 'string', [5.6, 'abc'], (1, 'sib', 2)]"
      ]
     },
     "execution_count": 39,
     "metadata": {},
     "output_type": "execute_result"
    }
   ],
   "source": [
    "lst[0:len(lst):1]"
   ]
  },
  {
   "cell_type": "code",
   "execution_count": 46,
   "id": "9f7bc4cb",
   "metadata": {},
   "outputs": [
    {
     "name": "stdout",
     "output_type": "stream",
     "text": [
      "[1, 2.5, 'string', [5.6, 'abc'], (1, 'sib', 2), 1.2, 'fixed', 1.2, 'fixed', 1.2, 'fixed']\n",
      "[1, 'pooja', 'string', [5.6, 'abc'], (1, 'sib', 2), 1.2, 'fixed', 1.2, 'fixed', 1.2, 'fixed']\n"
     ]
    }
   ],
   "source": [
    "lst=lst+[1.2,\"fixed\"]\n",
    "print(lst)\n",
    "lst[1]=\"pooja\"#mutable as i assign Pooja in index 1\n",
    "print(lst)"
   ]
  },
  {
   "cell_type": "markdown",
   "id": "de232237",
   "metadata": {},
   "source": [
    "### Python Tuple\n",
    "\n",
    "#### Tuple is an ordered sequence of items same as a list. The only difference is that tuples are immutable. Tuples once created cannot be modified.\n",
    "\n",
    "#### Tuples are used to write-protect data and are usually faster than lists as they cannot change dynamically.\n",
    "\n",
    "#### It is defined within parentheses () where items are separated by commas."
   ]
  },
  {
   "cell_type": "code",
   "execution_count": 50,
   "id": "2346e526",
   "metadata": {
    "scrolled": true
   },
   "outputs": [
    {
     "name": "stdout",
     "output_type": "stream",
     "text": [
      "0 1\n",
      "1 2.5\n",
      "2 string\n",
      "3 [5.6, 'abc']\n",
      "4 (1, 'sib', 2)\n"
     ]
    }
   ],
   "source": [
    "tup=(1, 2.5, 'string', [5.6, 'abc'], (1, 'sib', 2))\n",
    "\n",
    "for i in range(len(tup)):\n",
    "    print(i ,tup[i])"
   ]
  },
  {
   "cell_type": "code",
   "execution_count": 51,
   "id": "ff2a46b9",
   "metadata": {},
   "outputs": [
    {
     "data": {
      "text/plain": [
       "(1, 2.5, 'string', [5.6, 'abc'], (1, 'sib', 2), 1, 3)"
      ]
     },
     "execution_count": 51,
     "metadata": {},
     "output_type": "execute_result"
    }
   ],
   "source": [
    "tup=tup+(1,3)\n",
    "tup"
   ]
  },
  {
   "cell_type": "code",
   "execution_count": 52,
   "id": "fab9b54c",
   "metadata": {},
   "outputs": [
    {
     "ename": "TypeError",
     "evalue": "'tuple' object does not support item assignment",
     "output_type": "error",
     "traceback": [
      "\u001b[1;31m---------------------------------------------------------------------------\u001b[0m",
      "\u001b[1;31mTypeError\u001b[0m                                 Traceback (most recent call last)",
      "\u001b[1;32m~\\AppData\\Local\\Temp/ipykernel_12884/514355320.py\u001b[0m in \u001b[0;36m<module>\u001b[1;34m\u001b[0m\n\u001b[1;32m----> 1\u001b[1;33m \u001b[0mtup\u001b[0m\u001b[1;33m[\u001b[0m\u001b[1;36m1\u001b[0m\u001b[1;33m]\u001b[0m\u001b[1;33m=\u001b[0m\u001b[1;34m\"pooja\"\u001b[0m\u001b[1;33m\u001b[0m\u001b[1;33m\u001b[0m\u001b[0m\n\u001b[0m\u001b[0;32m      2\u001b[0m \u001b[0mprint\u001b[0m\u001b[1;33m(\u001b[0m\u001b[0mtup\u001b[0m\u001b[1;33m)\u001b[0m\u001b[1;33m\u001b[0m\u001b[1;33m\u001b[0m\u001b[0m\n",
      "\u001b[1;31mTypeError\u001b[0m: 'tuple' object does not support item assignment"
     ]
    }
   ],
   "source": [
    "tup[1]=\"pooja\"\n",
    "print(tup)"
   ]
  },
  {
   "cell_type": "markdown",
   "id": "56ec1e7e",
   "metadata": {},
   "source": [
    "### Python Strings\n",
    "#### String is sequence of Unicode characters. We can use single quotes or double quotes to represent strings. Multi-line strings can be denoted using triple quotes, ''' or \"\"\"."
   ]
  },
  {
   "cell_type": "code",
   "execution_count": 53,
   "id": "415a5246",
   "metadata": {},
   "outputs": [
    {
     "name": "stdout",
     "output_type": "stream",
     "text": [
      "This is a string\n",
      "A multiline\n",
      "string\n"
     ]
    }
   ],
   "source": [
    "s = \"This is a string\"\n",
    "print(s)\n",
    "s = '''A multiline\n",
    "string'''\n",
    "print(s)"
   ]
  },
  {
   "cell_type": "markdown",
   "id": "04cad320",
   "metadata": {},
   "source": [
    "#### Just like a list and tuple, the slicing operator [ ] can be used with strings. Strings, however, are immutable."
   ]
  },
  {
   "cell_type": "code",
   "execution_count": 54,
   "id": "bdac776a",
   "metadata": {},
   "outputs": [
    {
     "name": "stdout",
     "output_type": "stream",
     "text": [
      "s[4] =  o\n",
      "s[6:11] =  world\n"
     ]
    }
   ],
   "source": [
    "s = 'Hello world!'\n",
    "\n",
    "# s[4] = 'o'\n",
    "print(\"s[4] = \", s[4])\n",
    "\n",
    "# s[6:11] = 'world'\n",
    "print(\"s[6:11] = \", s[6:11])\n"
   ]
  },
  {
   "cell_type": "code",
   "execution_count": 55,
   "id": "399f56d6",
   "metadata": {},
   "outputs": [
    {
     "ename": "TypeError",
     "evalue": "'str' object does not support item assignment",
     "output_type": "error",
     "traceback": [
      "\u001b[1;31m---------------------------------------------------------------------------\u001b[0m",
      "\u001b[1;31mTypeError\u001b[0m                                 Traceback (most recent call last)",
      "\u001b[1;32m~\\AppData\\Local\\Temp/ipykernel_12884/914991070.py\u001b[0m in \u001b[0;36m<module>\u001b[1;34m\u001b[0m\n\u001b[1;32m----> 1\u001b[1;33m \u001b[0ms\u001b[0m\u001b[1;33m[\u001b[0m\u001b[1;36m1\u001b[0m\u001b[1;33m]\u001b[0m\u001b[1;33m=\u001b[0m\u001b[1;34m\"5\"\u001b[0m\u001b[1;33m\u001b[0m\u001b[1;33m\u001b[0m\u001b[0m\n\u001b[0m\u001b[0;32m      2\u001b[0m \u001b[0mprint\u001b[0m\u001b[1;33m(\u001b[0m\u001b[0ms\u001b[0m\u001b[1;33m)\u001b[0m\u001b[1;33m\u001b[0m\u001b[1;33m\u001b[0m\u001b[0m\n",
      "\u001b[1;31mTypeError\u001b[0m: 'str' object does not support item assignment"
     ]
    }
   ],
   "source": [
    "s[1]=\"5\"\n",
    "print(s)"
   ]
  },
  {
   "cell_type": "markdown",
   "id": "d0929367",
   "metadata": {},
   "source": [
    "### Python Set\n",
    "Set is an unordered collection of unique items. Set is defined by values separated by comma inside braces { }. Items in a set are not ordered."
   ]
  },
  {
   "cell_type": "code",
   "execution_count": 62,
   "id": "f3802570",
   "metadata": {},
   "outputs": [
    {
     "name": "stdout",
     "output_type": "stream",
     "text": [
      "{1, 2.5, 5, 'string', 9.5, 'fie'} <class 'set'>\n"
     ]
    }
   ],
   "source": [
    "st={1, 2.5, 'string',5,9.5,\"fie\"}\n",
    "print(st,type(st))"
   ]
  },
  {
   "cell_type": "markdown",
   "id": "67b67f64",
   "metadata": {},
   "source": [
    "#### We can perform set operations like union, intersection on two sets. Sets have unique values. They eliminate duplicates."
   ]
  },
  {
   "cell_type": "code",
   "execution_count": 63,
   "id": "8a111425",
   "metadata": {},
   "outputs": [
    {
     "data": {
      "text/plain": [
       "{1, 2, 3, 5, 6, 8}"
      ]
     },
     "execution_count": 63,
     "metadata": {},
     "output_type": "execute_result"
    }
   ],
   "source": [
    "a={1,1,2,8,5,8,3,2,5,6,8}\n",
    "a"
   ]
  },
  {
   "cell_type": "markdown",
   "id": "ba620ecc",
   "metadata": {},
   "source": [
    "        Since, set are unordered collection, indexing has no meaning. Hence, the slicing operator [] does not work."
   ]
  },
  {
   "cell_type": "code",
   "execution_count": 65,
   "id": "b9b0601f",
   "metadata": {},
   "outputs": [
    {
     "ename": "TypeError",
     "evalue": "'set' object is not subscriptable",
     "output_type": "error",
     "traceback": [
      "\u001b[1;31m---------------------------------------------------------------------------\u001b[0m",
      "\u001b[1;31mTypeError\u001b[0m                                 Traceback (most recent call last)",
      "\u001b[1;32m~\\AppData\\Local\\Temp/ipykernel_12884/4164697690.py\u001b[0m in \u001b[0;36m<module>\u001b[1;34m\u001b[0m\n\u001b[1;32m----> 1\u001b[1;33m \u001b[0ma\u001b[0m\u001b[1;33m[\u001b[0m\u001b[1;36m2\u001b[0m\u001b[1;33m]\u001b[0m\u001b[1;33m\u001b[0m\u001b[1;33m\u001b[0m\u001b[0m\n\u001b[0m",
      "\u001b[1;31mTypeError\u001b[0m: 'set' object is not subscriptable"
     ]
    }
   ],
   "source": [
    "a[2]"
   ]
  },
  {
   "cell_type": "markdown",
   "id": "85dd9e6f",
   "metadata": {},
   "source": [
    "### Python Dictionary\n",
    "#### Dictionary is an unordered collection of key-value pairs.\n",
    "\n",
    "#### It is generally used when we have a huge amount of data. Dictionaries are optimized for retrieving data. We must know the key to retrieve the value.\n",
    "\n",
    "#### In Python, dictionaries are defined within braces {} with each item being a pair in the form 'key:value'. Key and value can be of any type."
   ]
  },
  {
   "cell_type": "code",
   "execution_count": 70,
   "id": "cea531c6",
   "metadata": {},
   "outputs": [
    {
     "name": "stdout",
     "output_type": "stream",
     "text": [
      "<class 'dict'>\n",
      "d[1] =  value\n",
      "d['key'] =  2\n"
     ]
    }
   ],
   "source": [
    "d = {1:'value','key':2,2:\"6\"}\n",
    "print(type(d))\n",
    "\n",
    "print(\"d[1] = \", d[1])\n",
    "\n",
    "print(\"d['key'] = \", d['key'])\n",
    "\n"
   ]
  },
  {
   "cell_type": "code",
   "execution_count": 71,
   "id": "481c41c2",
   "metadata": {},
   "outputs": [
    {
     "name": "stdout",
     "output_type": "stream",
     "text": [
      "d[2] =  6\n"
     ]
    }
   ],
   "source": [
    "# Generates error\n",
    "print(\"d[2] = \", d[2])"
   ]
  },
  {
   "cell_type": "markdown",
   "id": "784646b7",
   "metadata": {},
   "source": [
    "### Type Conversion\n",
    "       The process of converting the value of one data type (integer, string, float, etc.) to another data type is called type conversion. Python has two types of type conversion.\n",
    "\n",
    "    1.Implicit Type Conversion\n",
    "    2.Explicit Type Conversion"
   ]
  },
  {
   "cell_type": "markdown",
   "id": "9d53bed4",
   "metadata": {},
   "source": [
    "#### Implicit Type Conversion\n",
    "In Implicit type conversion, Python automatically converts one data type to another data type. This process doesn't need any user involvement.\n",
    "\n",
    "Let's see an example where Python promotes the conversion of the lower data type (integer) to the higher data type (float) to avoid data loss."
   ]
  },
  {
   "cell_type": "code",
   "execution_count": 75,
   "id": "0ccf7bd4",
   "metadata": {},
   "outputs": [
    {
     "name": "stdout",
     "output_type": "stream",
     "text": [
      "a  5 <class 'int'>\n",
      "b  4.2 <class 'float'>\n",
      "9.2 <class 'float'>\n"
     ]
    }
   ],
   "source": [
    "a=5\n",
    "b=4.2\n",
    "new_no=a+b\n",
    "print(\"a \",a,type(a))\n",
    "print(\"b \",b,type(b))\n",
    "print(new_no,type(new_no))"
   ]
  },
  {
   "cell_type": "code",
   "execution_count": 76,
   "id": "7a7f3040",
   "metadata": {},
   "outputs": [
    {
     "name": "stdout",
     "output_type": "stream",
     "text": [
      "Data type of num_int: <class 'int'>\n",
      "Data type of num_str: <class 'str'>\n"
     ]
    },
    {
     "ename": "TypeError",
     "evalue": "unsupported operand type(s) for +: 'int' and 'str'",
     "output_type": "error",
     "traceback": [
      "\u001b[1;31m---------------------------------------------------------------------------\u001b[0m",
      "\u001b[1;31mTypeError\u001b[0m                                 Traceback (most recent call last)",
      "\u001b[1;32m~\\AppData\\Local\\Temp/ipykernel_12884/3531332130.py\u001b[0m in \u001b[0;36m<module>\u001b[1;34m\u001b[0m\n\u001b[0;32m      5\u001b[0m \u001b[0mprint\u001b[0m\u001b[1;33m(\u001b[0m\u001b[1;34m\"Data type of num_str:\"\u001b[0m\u001b[1;33m,\u001b[0m\u001b[0mtype\u001b[0m\u001b[1;33m(\u001b[0m\u001b[0mnum_str\u001b[0m\u001b[1;33m)\u001b[0m\u001b[1;33m)\u001b[0m\u001b[1;33m\u001b[0m\u001b[1;33m\u001b[0m\u001b[0m\n\u001b[0;32m      6\u001b[0m \u001b[1;33m\u001b[0m\u001b[0m\n\u001b[1;32m----> 7\u001b[1;33m \u001b[0mprint\u001b[0m\u001b[1;33m(\u001b[0m\u001b[0mnum_int\u001b[0m\u001b[1;33m+\u001b[0m\u001b[0mnum_str\u001b[0m\u001b[1;33m)\u001b[0m\u001b[1;33m\u001b[0m\u001b[1;33m\u001b[0m\u001b[0m\n\u001b[0m",
      "\u001b[1;31mTypeError\u001b[0m: unsupported operand type(s) for +: 'int' and 'str'"
     ]
    }
   ],
   "source": [
    "num_int = 123\n",
    "num_str = \"456\"\n",
    "\n",
    "print(\"Data type of num_int:\",type(num_int))\n",
    "print(\"Data type of num_str:\",type(num_str))\n",
    "\n",
    "print(num_int+num_str)"
   ]
  },
  {
   "cell_type": "markdown",
   "id": "018386ba",
   "metadata": {},
   "source": [
    "### Explicit Type Conversion\n",
    "In Explicit Type Conversion, users convert the data type of an object to required data type. We use the predefined functions like int(), float(), str(), etc to perform explicit type conversion.\n",
    "\n",
    "This type of conversion is also called typecasting because the user casts (changes) the data type of the objects."
   ]
  },
  {
   "cell_type": "code",
   "execution_count": 80,
   "id": "7fc40c59",
   "metadata": {},
   "outputs": [
    {
     "name": "stdout",
     "output_type": "stream",
     "text": [
      "Data type of num_int: <class 'int'>\n",
      "Data type of num_str: <class 'str'>\n",
      "579\n",
      "Data type of num_int: <class 'int'>\n",
      "Data type of num_str: <class 'int'>\n",
      "579\n"
     ]
    }
   ],
   "source": [
    "num_int = 123\n",
    "num_str = \"456\"\n",
    "\n",
    "print(\"Data type of num_int:\",type(num_int))\n",
    "print(\"Data type of num_str:\",type(num_str))\n",
    "num_str=int(num_str)\n",
    "print(num_int+num_str)\n",
    "print(\"Data type of num_int:\",type(num_int))\n",
    "print(\"Data type of num_str:\",type(num_str))\n",
    "print(num_int+num_str)"
   ]
  },
  {
   "cell_type": "markdown",
   "id": "250d240f",
   "metadata": {},
   "source": [
    "#### Key Points to Remember\n",
    "    1.Type Conversion is the conversion of object from one data type to another data type.\n",
    "    2.Implicit Type Conversion is automatically performed by the Python interpreter.\n",
    "    3.Python avoids the loss of data in Implicit Type Conversion.\n",
    "    4.Explicit Type Conversion is also called Type Casting, the data types of objects are converted using predefined functions by the user.\n",
    "    5.In Type Casting, loss of data may occur as we enforce the object to a specific data type."
   ]
  },
  {
   "cell_type": "code",
   "execution_count": 81,
   "id": "29b24b25",
   "metadata": {},
   "outputs": [
    {
     "name": "stdout",
     "output_type": "stream",
     "text": [
      "1 2 3 4\n",
      "1*2*3*4\n",
      "1#2#3#4&"
     ]
    }
   ],
   "source": [
    "print(1, 2, 3, 4)\n",
    "print(1, 2, 3, 4, sep='*')\n",
    "print(1, 2, 3, 4, sep='#', end='&')"
   ]
  },
  {
   "cell_type": "markdown",
   "id": "c81a31eb",
   "metadata": {},
   "source": [
    "### Python Import\n",
    "    When our program grows bigger, it is a good idea to break it into different modules.\n",
    "\n",
    "    A module is a file containing Python definitions and statements. Python modules have a filename and end with the extension .py.\n",
    "\n",
    "    Definitions inside a module can be imported to another module or the interactive interpreter in Python. We use the import keyword to do this.\n",
    "\n",
    "    For example, we can import the math module by typing the following line:"
   ]
  },
  {
   "cell_type": "code",
   "execution_count": null,
   "id": "2936399c",
   "metadata": {},
   "outputs": [],
   "source": []
  }
 ],
 "metadata": {
  "kernelspec": {
   "display_name": "Python 3 (ipykernel)",
   "language": "python",
   "name": "python3"
  },
  "language_info": {
   "codemirror_mode": {
    "name": "ipython",
    "version": 3
   },
   "file_extension": ".py",
   "mimetype": "text/x-python",
   "name": "python",
   "nbconvert_exporter": "python",
   "pygments_lexer": "ipython3",
   "version": "3.9.7"
  }
 },
 "nbformat": 4,
 "nbformat_minor": 5
}
