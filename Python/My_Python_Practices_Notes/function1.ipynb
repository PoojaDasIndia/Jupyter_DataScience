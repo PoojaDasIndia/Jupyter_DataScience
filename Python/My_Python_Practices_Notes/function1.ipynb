{
 "cells": [
  {
   "cell_type": "code",
   "execution_count": 2,
   "id": "5ff15d55",
   "metadata": {},
   "outputs": [],
   "source": [
    "def greet():\n",
    "    print(\"hello\")"
   ]
  },
  {
   "cell_type": "code",
   "execution_count": 4,
   "id": "9a09e29c",
   "metadata": {},
   "outputs": [
    {
     "name": "stdout",
     "output_type": "stream",
     "text": [
      "hello\n",
      "hello python\n",
      "hello\n"
     ]
    }
   ],
   "source": [
    "def greet():\n",
    "    print(\"hello\")\n",
    "\n",
    "greet() \n",
    "\n",
    "print(\"hello python\")\n",
    "greet()"
   ]
  },
  {
   "cell_type": "code",
   "execution_count": 5,
   "id": "a99d5e84",
   "metadata": {},
   "outputs": [
    {
     "name": "stdout",
     "output_type": "stream",
     "text": [
      "hello pooja\n",
      "hello python\n"
     ]
    }
   ],
   "source": [
    "def greet(name):\n",
    "    print(\"hello\",name)\n",
    "\n",
    "greet(\"pooja\") \n",
    "\n",
    "print(\"hello python\")\n"
   ]
  },
  {
   "cell_type": "code",
   "execution_count": 6,
   "id": "8617c690",
   "metadata": {},
   "outputs": [
    {
     "name": "stdout",
     "output_type": "stream",
     "text": [
      "Enter first no.5\n",
      "Enter second no.5\n",
      "Addition of num1 5 and num2 5 is 10\n",
      "done\n"
     ]
    }
   ],
   "source": [
    "def add_number(num1,num2):\n",
    "    add=num1+num2\n",
    "    print(\"Addition of num1 {} and num2 {} is {}\".format(num1,num2,add))\n",
    "    \n",
    "num1=int(input(\"Enter first no.\") )   \n",
    "num2=int(input(\"Enter second no.\") )   \n",
    "\n",
    "add_number(num1,num2)\n",
    "print(\"done\")"
   ]
  },
  {
   "cell_type": "code",
   "execution_count": 7,
   "id": "61b71ce6",
   "metadata": {},
   "outputs": [
    {
     "name": "stdout",
     "output_type": "stream",
     "text": [
      "Enter first no.5\n",
      "Enter second no.55\n",
      "Addition of num1 5 and num2 55 is 60\n",
      "done\n"
     ]
    }
   ],
   "source": [
    "def add_number(num1,num2):\n",
    "    add=num1+num2\n",
    "    return add\n",
    "num1=int(input(\"Enter first no.\") )   \n",
    "num2=int(input(\"Enter second no.\") )   \n",
    "\n",
    "add=add_number(num1,num2)\n",
    "print(\"Addition of num1 {} and num2 {} is {}\".format(num1,num2,add))\n",
    "print(\"done\")"
   ]
  },
  {
   "cell_type": "code",
   "execution_count": 16,
   "id": "2c8ef0e7",
   "metadata": {},
   "outputs": [
    {
     "name": "stdout",
     "output_type": "stream",
     "text": [
      "Average marks is  72.83333333333333\n",
      "Your Grade is B\n"
     ]
    }
   ],
   "source": [
    "#function to find average marks\n",
    "\n",
    "def find_average_marks(marks):\n",
    "    sum_of_marks=sum(marks)\n",
    "    total_subject=len(marks)\n",
    "    average=sum_of_marks/total_subject\n",
    "    return average\n",
    "#function to find grade\n",
    "def find_grade(average):\n",
    "    if average>=80:\n",
    "        print(\"Your Grade is A\")\n",
    "    elif average<80 and average>=60:\n",
    "        print(\"Your Grade is B\") \n",
    "    elif average<60 and average>=50:\n",
    "        print(\"Your Grade is C\")\n",
    "    else:\n",
    "        print(\"Your Grade is D\")\n",
    "    \n",
    "\n",
    "marks=[75,44,75,80,65,98]\n",
    "\n",
    "average=find_average_marks(marks)\n",
    "print(\"Average marks is \",average)\n",
    "find_grade(average)\n",
    "\n"
   ]
  },
  {
   "cell_type": "code",
   "execution_count": null,
   "id": "b0f195aa",
   "metadata": {},
   "outputs": [],
   "source": [
    "def recursor():\n",
    "    recursor()\n",
    "recursor()"
   ]
  },
  {
   "cell_type": "markdown",
   "id": "32160748",
   "metadata": {},
   "source": [
    "By default, the maximum depth of recursion is 1000. If the limit is crossed, it results in RecursionError."
   ]
  },
  {
   "cell_type": "code",
   "execution_count": 4,
   "id": "2f69aa3a",
   "metadata": {},
   "outputs": [
    {
     "name": "stdout",
     "output_type": "stream",
     "text": [
      "Enter any no 5\n",
      "The factorial of 5 is 120\n"
     ]
    }
   ],
   "source": [
    "def factorial(x):\n",
    "    \"\"\"This is a recursive function\n",
    "    to find the factorial of an integer\"\"\"\n",
    "\n",
    "    if x == 1:\n",
    "        return 1\n",
    "    else:\n",
    "        return (x * factorial(x-1))\n",
    "\n",
    "\n",
    "num = int(input(\"Enter any no \"))\n",
    "print(\"The factorial of\", num, \"is\", factorial(num))"
   ]
  },
  {
   "cell_type": "markdown",
   "id": "18bb2d6e",
   "metadata": {},
   "source": [
    "### Advantages of Recursion\n",
    "       1. Recursive functions make the code look clean and elegant.\n",
    "       2.A complex task can be broken down into simpler sub-problems using recursion.\n",
    "       3.Sequence generation is easier with recursion than using some nested iteration.\n",
    "### Disadvantages of Recursion\n",
    "        1.Sometimes the logic behind recursion is hard to follow through.\n",
    "        2.Recursive calls are expensive (inefficient) as they take up a lot of memory and time.\n",
    "        3.Recursive functions are hard to debug."
   ]
  },
  {
   "cell_type": "markdown",
   "id": "7e4d396c",
   "metadata": {},
   "source": [
    "### Python Anonymous/Lambda Function"
   ]
  }
 ],
 "metadata": {
  "kernelspec": {
   "display_name": "Python 3 (ipykernel)",
   "language": "python",
   "name": "python3"
  },
  "language_info": {
   "codemirror_mode": {
    "name": "ipython",
    "version": 3
   },
   "file_extension": ".py",
   "mimetype": "text/x-python",
   "name": "python",
   "nbconvert_exporter": "python",
   "pygments_lexer": "ipython3",
   "version": "3.9.7"
  }
 },
 "nbformat": 4,
 "nbformat_minor": 5
}
