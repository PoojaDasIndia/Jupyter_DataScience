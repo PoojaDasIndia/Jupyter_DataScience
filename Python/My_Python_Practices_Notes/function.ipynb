{
 "cells": [
  {
   "cell_type": "code",
   "execution_count": 2,
   "id": "5ff15d55",
   "metadata": {},
   "outputs": [],
   "source": [
    "def greet():\n",
    "    print(\"hello\")"
   ]
  },
  {
   "cell_type": "code",
   "execution_count": 4,
   "id": "9a09e29c",
   "metadata": {},
   "outputs": [
    {
     "name": "stdout",
     "output_type": "stream",
     "text": [
      "hello\n",
      "hello python\n",
      "hello\n"
     ]
    }
   ],
   "source": [
    "def greet():\n",
    "    print(\"hello\")\n",
    "\n",
    "greet() \n",
    "\n",
    "print(\"hello python\")\n",
    "greet()"
   ]
  },
  {
   "cell_type": "code",
   "execution_count": 5,
   "id": "575fb7a1",
   "metadata": {},
   "outputs": [
    {
     "name": "stdout",
     "output_type": "stream",
     "text": [
      "hello pooja\n",
      "hello python\n"
     ]
    }
   ],
   "source": [
    "def greet(name):\n",
    "    print(\"hello\",name)\n",
    "\n",
    "greet(\"pooja\") \n",
    "\n",
    "print(\"hello python\")\n"
   ]
  },
  {
   "cell_type": "code",
   "execution_count": 6,
   "id": "58c84388",
   "metadata": {},
   "outputs": [
    {
     "name": "stdout",
     "output_type": "stream",
     "text": [
      "Enter first no.5\n",
      "Enter second no.5\n",
      "Addition of num1 5 and num2 5 is 10\n",
      "done\n"
     ]
    }
   ],
   "source": [
    "def add_number(num1,num2):\n",
    "    add=num1+num2\n",
    "    print(\"Addition of num1 {} and num2 {} is {}\".format(num1,num2,add))\n",
    "    \n",
    "num1=int(input(\"Enter first no.\") )   \n",
    "num2=int(input(\"Enter second no.\") )   \n",
    "\n",
    "add_number(num1,num2)\n",
    "print(\"done\")"
   ]
  },
  {
   "cell_type": "code",
   "execution_count": 7,
   "id": "30e716e0",
   "metadata": {},
   "outputs": [
    {
     "name": "stdout",
     "output_type": "stream",
     "text": [
      "Enter first no.5\n",
      "Enter second no.55\n",
      "Addition of num1 5 and num2 55 is 60\n",
      "done\n"
     ]
    }
   ],
   "source": [
    "def add_number(num1,num2):\n",
    "    add=num1+num2\n",
    "    return add\n",
    "num1=int(input(\"Enter first no.\") )   \n",
    "num2=int(input(\"Enter second no.\") )   \n",
    "\n",
    "add=add_number(num1,num2)\n",
    "print(\"Addition of num1 {} and num2 {} is {}\".format(num1,num2,add))\n",
    "print(\"done\")"
   ]
  },
  {
   "cell_type": "code",
   "execution_count": 16,
   "id": "588e3e0c",
   "metadata": {},
   "outputs": [
    {
     "name": "stdout",
     "output_type": "stream",
     "text": [
      "Average marks is  72.83333333333333\n",
      "Your Grade is B\n"
     ]
    }
   ],
   "source": [
    "#function to find average marks\n",
    "\n",
    "def find_average_marks(marks):\n",
    "    sum_of_marks=sum(marks)\n",
    "    total_subject=len(marks)\n",
    "    average=sum_of_marks/total_subject\n",
    "    return average\n",
    "#function to find grade\n",
    "def find_grade(average):\n",
    "    if average>=80:\n",
    "        print(\"Your Grade is A\")\n",
    "    elif average<80 and average>=60:\n",
    "        print(\"Your Grade is B\") \n",
    "    elif average<60 and average>=50:\n",
    "        print(\"Your Grade is C\")\n",
    "    else:\n",
    "        print(\"Your Grade is D\")\n",
    "    \n",
    "\n",
    "marks=[75,44,75,80,65,98]\n",
    "\n",
    "average=find_average_marks(marks)\n",
    "print(\"Average marks is \",average)\n",
    "find_grade(average)\n",
    "\n"
   ]
  },
  {
   "cell_type": "code",
   "execution_count": null,
   "id": "eaa165e8",
   "metadata": {},
   "outputs": [],
   "source": [
    "def recursor():\n",
    "    recursor()\n",
    "recursor()"
   ]
  },
  {
   "cell_type": "markdown",
   "id": "8c8bfeb0",
   "metadata": {},
   "source": [
    "By default, the maximum depth of recursion is 1000. If the limit is crossed, it results in RecursionError."
   ]
  },
  {
   "cell_type": "code",
   "execution_count": 4,
   "id": "8539ca40",
   "metadata": {},
   "outputs": [
    {
     "name": "stdout",
     "output_type": "stream",
     "text": [
      "Enter any no 5\n",
      "The factorial of 5 is 120\n"
     ]
    }
   ],
   "source": [
    "def factorial(x):\n",
    "    \"\"\"This is a recursive function\n",
    "    to find the factorial of an integer\"\"\"\n",
    "\n",
    "    if x == 1:\n",
    "        return 1\n",
    "    else:\n",
    "        return (x * factorial(x-1))\n",
    "\n",
    "\n",
    "num = int(input(\"Enter any no \"))\n",
    "print(\"The factorial of\", num, \"is\", factorial(num))"
   ]
  },
  {
   "cell_type": "markdown",
   "id": "517c3ac8",
   "metadata": {},
   "source": [
    "### Advantages of Recursion\n",
    "       1. Recursive functions make the code look clean and elegant.\n",
    "       2.A complex task can be broken down into simpler sub-problems using recursion.\n",
    "       3.Sequence generation is easier with recursion than using some nested iteration.\n",
    "### Disadvantages of Recursion\n",
    "        1.Sometimes the logic behind recursion is hard to follow through.\n",
    "        2.Recursive calls are expensive (inefficient) as they take up a lot of memory and time.\n",
    "        3.Recursive functions are hard to debug."
   ]
  },
  {
   "cell_type": "markdown",
   "id": "4cfc6976",
   "metadata": {},
   "source": [
    "### Python Anonymous/Lambda Function"
   ]
  },
  {
   "cell_type": "markdown",
   "id": "27745a80",
   "metadata": {},
   "source": [
    "#### What are lambda functions in Python?\n",
    "\n",
    "In Python, an anonymous function is a function that is defined without a name.\n",
    "\n",
    "While normal functions are defined using the def keyword in Python, anonymous functions are defined using the lambda keyword.\n",
    "\n",
    "Hence, anonymous functions are also called lambda functions."
   ]
  },
  {
   "cell_type": "markdown",
   "id": "f00bd26e",
   "metadata": {},
   "source": [
    "### How to use lambda Functions in Python?\n",
    "A lambda function in python has the following syntax.\n",
    "\n",
    "<b>Syntax of Lambda Function in python</b>\n",
    "            \n",
    "            \n",
    "            lambda arguments: expression\n",
    "            \n",
    "    Lambda functions can have any number of arguments but only one expression. The expression is evaluated and returned. Lambda functions can be used wherever function objects are required.\n",
    "\n"
   ]
  },
  {
   "cell_type": "code",
   "execution_count": 5,
   "id": "cd713c68",
   "metadata": {},
   "outputs": [
    {
     "data": {
      "text/plain": [
       "10"
      ]
     },
     "execution_count": 5,
     "metadata": {},
     "output_type": "execute_result"
    }
   ],
   "source": [
    "def double(x):\n",
    "    return x*2\n",
    "\n",
    "double(5)"
   ]
  },
  {
   "cell_type": "code",
   "execution_count": 15,
   "id": "daa62664",
   "metadata": {},
   "outputs": [
    {
     "name": "stdout",
     "output_type": "stream",
     "text": [
      "20\n"
     ]
    }
   ],
   "source": [
    "d=lambda x :x*2\n",
    "\n",
    "print(d(10))"
   ]
  },
  {
   "cell_type": "code",
   "execution_count": 29,
   "id": "e91b7c15",
   "metadata": {},
   "outputs": [
    {
     "name": "stdout",
     "output_type": "stream",
     "text": [
      "Enter first no.10\n",
      "Enter second no.78\n",
      "78 is greater than 10 that is 78\n"
     ]
    }
   ],
   "source": [
    "large=lambda x,y: print(\"x = {} is greater y= {} thatz is \".format(x,y),x) if x>y else  print(\"{} is greater than {} that is\".format(y,x),y)\n",
    "n1=int(input(\"Enter first no.\"))\n",
    "n2=int(input(\"Enter second no.\"))\n",
    "large(n1,n2)"
   ]
  },
  {
   "cell_type": "code",
   "execution_count": 34,
   "id": "61387058",
   "metadata": {},
   "outputs": [
    {
     "name": "stdout",
     "output_type": "stream",
     "text": [
      " name of country ['India', 'Bangladesh', 'USA', 'Canada', 'Sri Lanka', 'Pakisthan', 'Newzland']\n",
      "\n",
      "Sorted name of country by alphabetical ['Bangladesh', 'Canada', 'India', 'Newzland', 'Pakisthan', 'Sri Lanka', 'USA']\n",
      "\n",
      "Sorted name of country by length ['USA', 'India', 'Canada', 'Newzland', 'Pakisthan', 'Sri Lanka', 'Bangladesh']\n"
     ]
    }
   ],
   "source": [
    "names=[\"India\",\"Bangladesh\",\"USA\",\"Canada\",\"Sri Lanka\",\"Pakisthan\",\"Newzland\"]\n",
    "print(\" name of country\",names)\n",
    "print()\n",
    "# sort by alhabhet\n",
    "names.sort()\n",
    "print(\"Sorted name of country by alphabetical\",names)\n",
    "print()\n",
    "#sort by country name length\n",
    "names.sort(key= lambda x : len(x))\n",
    "print(\"Sorted name of country by length\",names)\n"
   ]
  },
  {
   "cell_type": "code",
   "execution_count": 37,
   "id": "abdf3873",
   "metadata": {},
   "outputs": [
    {
     "data": {
      "text/plain": [
       "7"
      ]
     },
     "execution_count": 37,
     "metadata": {},
     "output_type": "execute_result"
    }
   ],
   "source": [
    "names= lambda x : len(x)\n",
    "names([\"India\",\"Bangladesh\",\"USA\",\"Canada\",\"Sri Lanka\",\"Pakisthan\",\"Newzland\"])"
   ]
  },
  {
   "cell_type": "code",
   "execution_count": 49,
   "id": "34d05e22",
   "metadata": {},
   "outputs": [
    {
     "data": {
      "text/plain": [
       "['USA', 'India', 'Canada', 'Newzland', 'Sri Lanka', 'Pakisthan', 'Bangladesh']"
      ]
     },
     "execution_count": 49,
     "metadata": {},
     "output_type": "execute_result"
    }
   ],
   "source": [
    "names=[\"India\",\"Bangladesh\",\"USA\",\"Canada\",\"Sri Lanka\",\"Pakisthan\",\"Newzland\"]\n",
    "\n",
    "names.sort(key= lambda x : len(x))\n",
    "names"
   ]
  },
  {
   "cell_type": "code",
   "execution_count": 51,
   "id": "c4fd02df",
   "metadata": {},
   "outputs": [
    {
     "data": {
      "text/plain": [
       "5"
      ]
     },
     "execution_count": 51,
     "metadata": {},
     "output_type": "execute_result"
    }
   ],
   "source": [
    "key= lambda x : len(x)\n",
    "key(\"India\")"
   ]
  },
  {
   "cell_type": "code",
   "execution_count": 52,
   "id": "234fc888",
   "metadata": {},
   "outputs": [
    {
     "data": {
      "text/plain": [
       "14"
      ]
     },
     "execution_count": 52,
     "metadata": {},
     "output_type": "execute_result"
    }
   ],
   "source": [
    "def add(n1,n2):\n",
    "    add=n1+n2\n",
    "    return add\n",
    "add(5,9)"
   ]
  },
  {
   "cell_type": "code",
   "execution_count": 54,
   "id": "26760d4b",
   "metadata": {},
   "outputs": [
    {
     "data": {
      "text/plain": [
       "10"
      ]
     },
     "execution_count": 54,
     "metadata": {},
     "output_type": "execute_result"
    }
   ],
   "source": [
    "add=lambda n1,n2 : n1+n2\n",
    "add(7,3)    "
   ]
  },
  {
   "cell_type": "markdown",
   "id": "baee2edb",
   "metadata": {},
   "source": [
    "### Use of Lambda Function in python\n",
    "We use lambda functions when we require a nameless function for a short period of time.\n",
    "\n",
    "In Python, we generally use it as an argument to a higher-order function (a function that takes in other functions as arguments). Lambda functions are used along with built-in functions like filter(), map() etc."
   ]
  },
  {
   "cell_type": "markdown",
   "id": "1bf42d69",
   "metadata": {},
   "source": [
    "### Example use with map()\n",
    "\n",
    "        The map() function in Python takes in a function and a list.\n",
    "\n",
    "    The function is called with all the items in the list and a new list is returned which contains items returned by that function for each item.\n",
    "\n",
    "    Here is an example use of map() function to double all the items in a list."
   ]
  },
  {
   "cell_type": "code",
   "execution_count": 62,
   "id": "d753f84a",
   "metadata": {},
   "outputs": [
    {
     "name": "stdout",
     "output_type": "stream",
     "text": [
      "25\n",
      "[1, 4, 9, 16, 25]\n"
     ]
    }
   ],
   "source": [
    "numbers=[1,2,3,4,5]\n",
    "new_list=[]\n",
    "sqr=lambda n:n**2\n",
    "print(sqr(5))\n",
    "\n",
    "for i in numbers:\n",
    "    new_list.append(sqr(i))\n",
    "print(new_list)"
   ]
  },
  {
   "cell_type": "markdown",
   "id": "d4eba404",
   "metadata": {},
   "source": [
    "### map(lambda x :x**2,numbers) \n",
    " map( funtion(which we neet to perfrm) , list (which is iterable)"
   ]
  },
  {
   "cell_type": "code",
   "execution_count": 76,
   "id": "9f908996",
   "metadata": {},
   "outputs": [
    {
     "name": "stdout",
     "output_type": "stream",
     "text": [
      "<map object at 0x000001EAC3324190>\n",
      "[1, 4, 9, 16, 25]\n"
     ]
    }
   ],
   "source": [
    "numbers=[1,2,3,4,5]\n",
    "sqr=map(lambda x :x**2,numbers) # map( funtion() , list)\n",
    "print(sqr )# map  return  iterater object\n",
    "print(list(sqr))"
   ]
  },
  {
   "cell_type": "code",
   "execution_count": 70,
   "id": "c581e565",
   "metadata": {},
   "outputs": [
    {
     "name": "stdout",
     "output_type": "stream",
     "text": [
      "[4, 5, 6, 7, 9, [4, 5]]\n"
     ]
    }
   ],
   "source": [
    "n=[4,5,6,7]\n",
    "n.append(9)\n",
    "n.append([4,5])\n",
    "print(n)\n",
    "\n"
   ]
  },
  {
   "cell_type": "code",
   "execution_count": 74,
   "id": "938cc29b",
   "metadata": {},
   "outputs": [
    {
     "name": "stdout",
     "output_type": "stream",
     "text": [
      "[4, 5, 6, 7, 9, 4, 5]\n"
     ]
    }
   ],
   "source": [
    "n=[4,5,6,7]\n",
    "n.extend([9])\n",
    "n.extend([4,5])\n",
    "print(n)"
   ]
  },
  {
   "cell_type": "markdown",
   "id": "9ca01098",
   "metadata": {},
   "source": [
    "### Example use with filter()\n",
    "    The filter() function in Python takes in a function and a list as arguments.\n",
    "\n",
    "    The function is called with all the items in the list and a new list is returned which contains items for which the function evaluates to True.\n",
    "\n",
    "    Here is an example use of filter() function to filter out only even numbers from a list."
   ]
  },
  {
   "cell_type": "code",
   "execution_count": 77,
   "id": "647f7565",
   "metadata": {},
   "outputs": [
    {
     "name": "stdout",
     "output_type": "stream",
     "text": [
      "[False, False, True, True, True, False, False, True]\n"
     ]
    }
   ],
   "source": [
    "# Program to filter out only the even items from a list\n",
    "my_list = [1, 5, 4, 6, 8, 11, 3, 12]\n",
    "\n",
    "new_list = list(map(lambda x: x%2 == 0 , my_list))\n",
    "\n",
    "print(new_list)"
   ]
  },
  {
   "cell_type": "code",
   "execution_count": 78,
   "id": "f412bc37",
   "metadata": {},
   "outputs": [
    {
     "name": "stdout",
     "output_type": "stream",
     "text": [
      "[4, 6, 8, 12]\n"
     ]
    }
   ],
   "source": [
    "my_list = [1, 5, 4, 6, 8, 11, 3, 12]\n",
    "\n",
    "new_list = list(filter(lambda x: x%2 == 0 , my_list))\n",
    "\n",
    "print(new_list)"
   ]
  },
  {
   "cell_type": "code",
   "execution_count": 79,
   "id": "32d1cb72",
   "metadata": {},
   "outputs": [
    {
     "name": "stdout",
     "output_type": "stream",
     "text": [
      "[8, 11, 32]\n"
     ]
    }
   ],
   "source": [
    "a=[4,5,2]\n",
    "b=[4,6,30]\n",
    "result=list(map(lambda n,m: n+m ,a, b))\n",
    "print(result)"
   ]
  },
  {
   "cell_type": "code",
   "execution_count": 81,
   "id": "ec22cb0c",
   "metadata": {},
   "outputs": [
    {
     "name": "stdout",
     "output_type": "stream",
     "text": [
      "inside hello\n",
      "outside  hello\n"
     ]
    }
   ],
   "source": [
    "message=\"hello\"\n",
    "def greet():\n",
    "    print(\"inside\",message)\n",
    "    \n",
    "greet() \n",
    "print(\"outside \", message)"
   ]
  },
  {
   "cell_type": "code",
   "execution_count": 82,
   "id": "a38915b7",
   "metadata": {},
   "outputs": [
    {
     "name": "stdout",
     "output_type": "stream",
     "text": [
      "inside  123\n",
      "outside  hello\n"
     ]
    }
   ],
   "source": [
    "message=\"hello\"\n",
    "def greet():\n",
    "    message=\" 123\"\n",
    "    print(\"inside\",message)\n",
    "    \n",
    "greet() \n",
    "print(\"outside \", message)"
   ]
  },
  {
   "cell_type": "code",
   "execution_count": 86,
   "id": "de185541",
   "metadata": {},
   "outputs": [
    {
     "name": "stdout",
     "output_type": "stream",
     "text": [
      "inner: nonlocal\n",
      "outer: local\n"
     ]
    }
   ],
   "source": [
    "def outer():\n",
    "    x = \"local\"\n",
    "\n",
    "    def inner():\n",
    "        #nonlocal x\n",
    "        x = \"nonlocal\"\n",
    "        print(\"inner:\", x)\n",
    "\n",
    "    inner()\n",
    "    print(\"outer:\", x)\n",
    "\n",
    "\n",
    "outer()"
   ]
  },
  {
   "cell_type": "code",
   "execution_count": 87,
   "id": "e7226d94",
   "metadata": {},
   "outputs": [
    {
     "name": "stdout",
     "output_type": "stream",
     "text": [
      "inner: nonlocal\n",
      "outer: nonlocal\n"
     ]
    }
   ],
   "source": [
    "def outer():\n",
    "    x = \"local\"\n",
    "\n",
    "    def inner():\n",
    "        nonlocal x\n",
    "        x = \"nonlocal\"\n",
    "        print(\"inner:\", x)\n",
    "\n",
    "    inner()\n",
    "    print(\"outer:\", x)\n",
    "\n",
    "\n",
    "outer()"
   ]
  },
  {
   "cell_type": "markdown",
   "id": "4478e563",
   "metadata": {},
   "source": [
    "### Nonlocal Variables\n",
    "Nonlocal variables are used in nested functions whose local scope is not defined. This means that the variable can be neither in the local nor the global scope."
   ]
  },
  {
   "cell_type": "code",
   "execution_count": 88,
   "id": "a3ed887b",
   "metadata": {},
   "outputs": [
    {
     "name": "stdout",
     "output_type": "stream",
     "text": [
      "global global \n",
      "local\n"
     ]
    }
   ],
   "source": [
    "x = \"global \"\n",
    "\n",
    "def foo():\n",
    "    global x\n",
    "    y = \"local\"\n",
    "    x = x * 2\n",
    "    print(x)\n",
    "    print(y)\n",
    "\n",
    "foo()"
   ]
  },
  {
   "cell_type": "markdown",
   "id": "d0959f20",
   "metadata": {},
   "source": [
    "What is the global keyword\n",
    "In Python, global keyword allows you to modify the variable outside of the current scope. It is used to create a global variable and make changes to the variable in a local context."
   ]
  },
  {
   "cell_type": "code",
   "execution_count": 1,
   "id": "8fa6732f",
   "metadata": {},
   "outputs": [],
   "source": [
    "import sys"
   ]
  },
  {
   "cell_type": "code",
   "execution_count": 2,
   "id": "6188202e",
   "metadata": {},
   "outputs": [
    {
     "data": {
      "text/plain": [
       "['C:\\\\Users\\\\HP\\\\Desktop\\\\python\\\\My_Python_Practices_Notes',\n",
       " 'C:\\\\ProgramData\\\\Anaconda3\\\\python39.zip',\n",
       " 'C:\\\\ProgramData\\\\Anaconda3\\\\DLLs',\n",
       " 'C:\\\\ProgramData\\\\Anaconda3\\\\lib',\n",
       " 'C:\\\\ProgramData\\\\Anaconda3',\n",
       " '',\n",
       " 'C:\\\\ProgramData\\\\Anaconda3\\\\lib\\\\site-packages',\n",
       " 'C:\\\\ProgramData\\\\Anaconda3\\\\lib\\\\site-packages\\\\locket-0.2.1-py3.9.egg',\n",
       " 'C:\\\\ProgramData\\\\Anaconda3\\\\lib\\\\site-packages\\\\win32',\n",
       " 'C:\\\\ProgramData\\\\Anaconda3\\\\lib\\\\site-packages\\\\win32\\\\lib',\n",
       " 'C:\\\\ProgramData\\\\Anaconda3\\\\lib\\\\site-packages\\\\Pythonwin',\n",
       " 'C:\\\\ProgramData\\\\Anaconda3\\\\lib\\\\site-packages\\\\IPython\\\\extensions',\n",
       " 'C:\\\\Users\\\\HP\\\\.ipython']"
      ]
     },
     "execution_count": 2,
     "metadata": {},
     "output_type": "execute_result"
    }
   ],
   "source": [
    "sys.path\n"
   ]
  },
  {
   "cell_type": "markdown",
   "id": "3019d1be",
   "metadata": {},
   "source": [
    "###  What are packages?\n",
    "We don't usually store all of our files on our computer in the same location. We use a well-organized hierarchy of directories for easier access.\n",
    "\n",
    "Similar files are kept in the same directory, for example, we may keep all the songs in the \"music\" directory. Analogous to this, Python has packages for directories and modules for files.\n",
    "\n",
    "As our application program grows larger in size with a lot of modules, we place similar modules in one package and different modules in different packages. This makes a project (program) easy to manage and conceptually clear.\n",
    "\n",
    "Similarly, as a directory can contain subdirectories and files, a Python package can have sub-packages and modules.\n",
    "\n",
    "A directory must contain a file named __init__.py in order for Python to consider it as a package. This file can be left empty but we generally place the initialization code for that package in this file.\n",
    "\n",
    "Here is an example. Suppose we are developing a game. One possible organization of packages and modules could be as shown in the figure below.\n",
    "\n",
    "Package Module Structure in Python Programming\n"
   ]
  },
  {
   "cell_type": "code",
   "execution_count": 4,
   "id": "a76c3520",
   "metadata": {},
   "outputs": [
    {
     "name": "stdout",
     "output_type": "stream",
     "text": [
      "11\n"
     ]
    }
   ],
   "source": [
    "print((10-4)*2-1)"
   ]
  },
  {
   "cell_type": "code",
   "execution_count": 15,
   "id": "8d8270a8",
   "metadata": {},
   "outputs": [
    {
     "name": "stdout",
     "output_type": "stream",
     "text": [
      "Enter lower no. 5\n",
      "Enter upper no. 15\n",
      "5\n",
      "7\n",
      "11\n",
      "13\n"
     ]
    }
   ],
   "source": [
    "l=int(input(\"Enter lower no. \"))\n",
    "u=int(input(\"Enter upper no. \"))\n",
    "\n",
    "for num in range(l,u+1):\n",
    "    if num>1:\n",
    "        for j in range(2,num):\n",
    "            if num%j==0:\n",
    "                break\n",
    "        else:\n",
    "            print(num)"
   ]
  },
  {
   "cell_type": "code",
   "execution_count": 16,
   "id": "cbca54e0",
   "metadata": {},
   "outputs": [
    {
     "name": "stdout",
     "output_type": "stream",
     "text": [
      "True\n"
     ]
    }
   ],
   "source": [
    "print(10!=12)"
   ]
  },
  {
   "cell_type": "code",
   "execution_count": 17,
   "id": "639b88b6",
   "metadata": {},
   "outputs": [
    {
     "name": "stdout",
     "output_type": "stream",
     "text": [
      "4\n"
     ]
    }
   ],
   "source": [
    "n=3\n",
    "i=1\n",
    "while i<=n:\n",
    "    i=i+1\n",
    "print(i)    "
   ]
  },
  {
   "cell_type": "code",
   "execution_count": 18,
   "id": "49205680",
   "metadata": {},
   "outputs": [
    {
     "data": {
      "text/plain": [
       "True"
      ]
     },
     "execution_count": 18,
     "metadata": {},
     "output_type": "execute_result"
    }
   ],
   "source": [
    "not(5!=5)"
   ]
  },
  {
   "cell_type": "code",
   "execution_count": 22,
   "id": "8c982122",
   "metadata": {},
   "outputs": [
    {
     "data": {
      "text/plain": [
       "False"
      ]
     },
     "execution_count": 22,
     "metadata": {},
     "output_type": "execute_result"
    }
   ],
   "source": [
    "5!=5"
   ]
  },
  {
   "cell_type": "code",
   "execution_count": 20,
   "id": "99dff120",
   "metadata": {},
   "outputs": [
    {
     "data": {
      "text/plain": [
       "True"
      ]
     },
     "execution_count": 20,
     "metadata": {},
     "output_type": "execute_result"
    }
   ],
   "source": [
    "5==5"
   ]
  },
  {
   "cell_type": "code",
   "execution_count": 23,
   "id": "2f9f24e2",
   "metadata": {},
   "outputs": [
    {
     "ename": "NameError",
     "evalue": "name 'x' is not defined",
     "output_type": "error",
     "traceback": [
      "\u001b[1;31m---------------------------------------------------------------------------\u001b[0m",
      "\u001b[1;31mNameError\u001b[0m                                 Traceback (most recent call last)",
      "\u001b[1;32m~\\AppData\\Local\\Temp/ipykernel_5564/3746087596.py\u001b[0m in \u001b[0;36m<module>\u001b[1;34m\u001b[0m\n\u001b[0;32m      2\u001b[0m     \u001b[0mx\u001b[0m\u001b[1;33m=\u001b[0m\u001b[1;36m5\u001b[0m\u001b[1;33m\u001b[0m\u001b[1;33m\u001b[0m\u001b[0m\n\u001b[0;32m      3\u001b[0m \u001b[0mmy_fun\u001b[0m\u001b[1;33m(\u001b[0m\u001b[1;33m)\u001b[0m\u001b[1;33m\u001b[0m\u001b[1;33m\u001b[0m\u001b[0m\n\u001b[1;32m----> 4\u001b[1;33m \u001b[0mprint\u001b[0m\u001b[1;33m(\u001b[0m\u001b[0mx\u001b[0m\u001b[1;33m)\u001b[0m\u001b[1;33m\u001b[0m\u001b[1;33m\u001b[0m\u001b[0m\n\u001b[0m",
      "\u001b[1;31mNameError\u001b[0m: name 'x' is not defined"
     ]
    }
   ],
   "source": [
    "def my_fun():\n",
    "    x=5\n",
    "my_fun()\n",
    "print(x)"
   ]
  },
  {
   "cell_type": "code",
   "execution_count": 29,
   "id": "167525d4",
   "metadata": {},
   "outputs": [
    {
     "name": "stdout",
     "output_type": "stream",
     "text": [
      "hello  pooja,good night rest well\n"
     ]
    }
   ],
   "source": [
    "def greet(name,msg_1,msg2=\"good mrng/\"):\n",
    "    print(\"hello \",name+\",\"+msg_1+\" \"+msg2)\n",
    "    \n",
    "greet(\"pooja\",\"good night\",\"rest well\")    "
   ]
  },
  {
   "cell_type": "code",
   "execution_count": 30,
   "id": "3b7ed2e0",
   "metadata": {},
   "outputs": [
    {
     "name": "stdout",
     "output_type": "stream",
     "text": [
      "hello  pooja,good night rest well\n"
     ]
    }
   ],
   "source": [
    "def greet(name,msg_1=\"good mrng/\",msg2=\"good mrng/\"):\n",
    "    print(\"hello \",name+\",\"+msg_1+\" \"+msg2)\n",
    "    \n",
    "greet(\"pooja\",\"good night\",\"rest well\") "
   ]
  },
  {
   "cell_type": "code",
   "execution_count": 31,
   "id": "d8f33417",
   "metadata": {},
   "outputs": [
    {
     "ename": "SyntaxError",
     "evalue": "non-default argument follows default argument (Temp/ipykernel_5564/379550341.py, line 1)",
     "output_type": "error",
     "traceback": [
      "\u001b[1;36m  File \u001b[1;32m\"C:\\Users\\HP\\AppData\\Local\\Temp/ipykernel_5564/379550341.py\"\u001b[1;36m, line \u001b[1;32m1\u001b[0m\n\u001b[1;33m    def greet(name,msg_1=\"good mrng/\",msg2):\u001b[0m\n\u001b[1;37m                                          ^\u001b[0m\n\u001b[1;31mSyntaxError\u001b[0m\u001b[1;31m:\u001b[0m non-default argument follows default argument\n"
     ]
    }
   ],
   "source": [
    "def greet(name,msg_1=\"good mrng/\",msg2):\n",
    "    print(\"hello \",name+\",\"+msg_1+\" \"+msg2)\n",
    "    \n",
    "greet(\"pooja\",\"good night\",\"rest well\") "
   ]
  },
  {
   "cell_type": "code",
   "execution_count": 37,
   "id": "2c3fa707",
   "metadata": {},
   "outputs": [
    {
     "name": "stdout",
     "output_type": "stream",
     "text": [
      "['p', 'r', 'o', 'b', 'l', 'e', 'm']\n",
      "['p', 'r', 'b', 'l', 'e', 'm']\n",
      "['p', 'm']\n"
     ]
    },
    {
     "ename": "NameError",
     "evalue": "name 'nl' is not defined",
     "output_type": "error",
     "traceback": [
      "\u001b[1;31m---------------------------------------------------------------------------\u001b[0m",
      "\u001b[1;31mNameError\u001b[0m                                 Traceback (most recent call last)",
      "\u001b[1;32m~\\AppData\\Local\\Temp/ipykernel_5564/2672811489.py\u001b[0m in \u001b[0;36m<module>\u001b[1;34m\u001b[0m\n\u001b[0;32m      7\u001b[0m \u001b[0mprint\u001b[0m\u001b[1;33m(\u001b[0m\u001b[0mnl\u001b[0m\u001b[1;33m)\u001b[0m\u001b[1;33m\u001b[0m\u001b[1;33m\u001b[0m\u001b[0m\n\u001b[0;32m      8\u001b[0m \u001b[1;32mdel\u001b[0m \u001b[0mnl\u001b[0m\u001b[1;33m\u001b[0m\u001b[1;33m\u001b[0m\u001b[0m\n\u001b[1;32m----> 9\u001b[1;33m \u001b[0mprint\u001b[0m\u001b[1;33m(\u001b[0m\u001b[0mnl\u001b[0m\u001b[1;33m)\u001b[0m\u001b[1;33m\u001b[0m\u001b[1;33m\u001b[0m\u001b[0m\n\u001b[0m",
      "\u001b[1;31mNameError\u001b[0m: name 'nl' is not defined"
     ]
    }
   ],
   "source": [
    "str=\"problem\"\n",
    "nl=list(str)\n",
    "print(nl)\n",
    "del nl[2]\n",
    "print(nl)\n",
    "del nl[1:5]\n",
    "print(nl)\n",
    "del nl\n",
    "print(nl)"
   ]
  },
  {
   "cell_type": "code",
   "execution_count": 97,
   "id": "2c195c9c",
   "metadata": {},
   "outputs": [
    {
     "data": {
      "text/plain": [
       "['__add__',\n",
       " '__class__',\n",
       " '__class_getitem__',\n",
       " '__contains__',\n",
       " '__delattr__',\n",
       " '__dir__',\n",
       " '__doc__',\n",
       " '__eq__',\n",
       " '__format__',\n",
       " '__ge__',\n",
       " '__getattribute__',\n",
       " '__getitem__',\n",
       " '__getnewargs__',\n",
       " '__gt__',\n",
       " '__hash__',\n",
       " '__init__',\n",
       " '__init_subclass__',\n",
       " '__iter__',\n",
       " '__le__',\n",
       " '__len__',\n",
       " '__lt__',\n",
       " '__mul__',\n",
       " '__ne__',\n",
       " '__new__',\n",
       " '__reduce__',\n",
       " '__reduce_ex__',\n",
       " '__repr__',\n",
       " '__rmul__',\n",
       " '__setattr__',\n",
       " '__sizeof__',\n",
       " '__str__',\n",
       " '__subclasshook__',\n",
       " 'count',\n",
       " 'index']"
      ]
     },
     "execution_count": 97,
     "metadata": {},
     "output_type": "execute_result"
    }
   ],
   "source": [
    "dir(nl)\n"
   ]
  },
  {
   "cell_type": "code",
   "execution_count": 42,
   "id": "258b998b",
   "metadata": {
    "scrolled": true
   },
   "outputs": [
    {
     "name": "stdout",
     "output_type": "stream",
     "text": [
      "['p', 'r', 'o', 'b', 'l', 'e', 'm']\n",
      "['r', 'o', 'b', 'l', 'e', 'm']\n"
     ]
    },
    {
     "ename": "TypeError",
     "evalue": "list.remove() takes exactly one argument (2 given)",
     "output_type": "error",
     "traceback": [
      "\u001b[1;31m---------------------------------------------------------------------------\u001b[0m",
      "\u001b[1;31mTypeError\u001b[0m                                 Traceback (most recent call last)",
      "\u001b[1;32m~\\AppData\\Local\\Temp/ipykernel_5564/3240324901.py\u001b[0m in \u001b[0;36m<module>\u001b[1;34m\u001b[0m\n\u001b[0;32m      4\u001b[0m \u001b[0mnl\u001b[0m\u001b[1;33m.\u001b[0m\u001b[0mremove\u001b[0m\u001b[1;33m(\u001b[0m\u001b[1;34m\"p\"\u001b[0m\u001b[1;33m)\u001b[0m\u001b[1;33m\u001b[0m\u001b[1;33m\u001b[0m\u001b[0m\n\u001b[0;32m      5\u001b[0m \u001b[0mprint\u001b[0m\u001b[1;33m(\u001b[0m\u001b[0mnl\u001b[0m\u001b[1;33m)\u001b[0m\u001b[1;33m\u001b[0m\u001b[1;33m\u001b[0m\u001b[0m\n\u001b[1;32m----> 6\u001b[1;33m \u001b[0mnl\u001b[0m\u001b[1;33m.\u001b[0m\u001b[0mremove\u001b[0m\u001b[1;33m(\u001b[0m\u001b[1;34m\"p\"\u001b[0m\u001b[1;33m,\u001b[0m\u001b[1;34m\"m\"\u001b[0m\u001b[1;33m)\u001b[0m\u001b[1;33m\u001b[0m\u001b[1;33m\u001b[0m\u001b[0m\n\u001b[0m\u001b[0;32m      7\u001b[0m \u001b[0mprint\u001b[0m\u001b[1;33m(\u001b[0m\u001b[0mnl\u001b[0m\u001b[1;33m)\u001b[0m\u001b[1;33m\u001b[0m\u001b[1;33m\u001b[0m\u001b[0m\n",
      "\u001b[1;31mTypeError\u001b[0m: list.remove() takes exactly one argument (2 given)"
     ]
    }
   ],
   "source": [
    "str=\"problem\"\n",
    "nl=list(str)\n",
    "print(nl)\n",
    "nl.remove(\"p\")\n",
    "print(nl)\n",
    "nl.remove(\"p\",\"m\")\n",
    "print(nl)"
   ]
  },
  {
   "cell_type": "code",
   "execution_count": 43,
   "id": "b0f25c9d",
   "metadata": {},
   "outputs": [
    {
     "name": "stdout",
     "output_type": "stream",
     "text": [
      "['r', 'o', 'l', 'e', 'm']\n"
     ]
    }
   ],
   "source": [
    "nl.pop(2)\n",
    "print(nl)"
   ]
  },
  {
   "cell_type": "code",
   "execution_count": 44,
   "id": "de39e4b6",
   "metadata": {
    "scrolled": true
   },
   "outputs": [
    {
     "name": "stdout",
     "output_type": "stream",
     "text": [
      "['r', 'o', 'l', 'e']\n"
     ]
    }
   ],
   "source": [
    "nl.pop()# last element\n",
    "print(nl)"
   ]
  },
  {
   "cell_type": "code",
   "execution_count": 45,
   "id": "9a6a804e",
   "metadata": {},
   "outputs": [
    {
     "data": {
      "text/plain": [
       "[]"
      ]
     },
     "execution_count": 45,
     "metadata": {},
     "output_type": "execute_result"
    }
   ],
   "source": [
    "nl.clear()\n",
    "nl"
   ]
  },
  {
   "cell_type": "code",
   "execution_count": 46,
   "id": "09af72ae",
   "metadata": {},
   "outputs": [
    {
     "data": {
      "text/plain": [
       "tuple"
      ]
     },
     "execution_count": 46,
     "metadata": {},
     "output_type": "execute_result"
    }
   ],
   "source": [
    "n=(1,2)\n",
    "type(n)"
   ]
  },
  {
   "cell_type": "code",
   "execution_count": 52,
   "id": "3b68de32",
   "metadata": {},
   "outputs": [
    {
     "name": "stdout",
     "output_type": "stream",
     "text": [
      "m\n"
     ]
    }
   ],
   "source": [
    "\n",
    "nt=('p', 'r', 'o', 'b', 'l', 'e', 'm')\n",
    "\n",
    "print(nt[-1])"
   ]
  },
  {
   "cell_type": "code",
   "execution_count": 94,
   "id": "d63c398e",
   "metadata": {},
   "outputs": [
    {
     "ename": "AttributeError",
     "evalue": "'tuple' object has no attribute 'add'",
     "output_type": "error",
     "traceback": [
      "\u001b[1;31m---------------------------------------------------------------------------\u001b[0m",
      "\u001b[1;31mAttributeError\u001b[0m                            Traceback (most recent call last)",
      "\u001b[1;32m~\\AppData\\Local\\Temp/ipykernel_5564/3302700272.py\u001b[0m in \u001b[0;36m<module>\u001b[1;34m\u001b[0m\n\u001b[1;32m----> 1\u001b[1;33m \u001b[0mnt\u001b[0m\u001b[1;33m.\u001b[0m\u001b[0madd\u001b[0m\u001b[1;33m(\u001b[0m\u001b[1;34m\"5\"\u001b[0m\u001b[1;33m)\u001b[0m\u001b[1;33m\u001b[0m\u001b[1;33m\u001b[0m\u001b[0m\n\u001b[0m",
      "\u001b[1;31mAttributeError\u001b[0m: 'tuple' object has no attribute 'add'"
     ]
    }
   ],
   "source": [
    "nt.add(\"5\")"
   ]
  },
  {
   "cell_type": "code",
   "execution_count": 95,
   "id": "1a83e7fa",
   "metadata": {},
   "outputs": [
    {
     "ename": "AttributeError",
     "evalue": "'tuple' object has no attribute 'remove'",
     "output_type": "error",
     "traceback": [
      "\u001b[1;31m---------------------------------------------------------------------------\u001b[0m",
      "\u001b[1;31mAttributeError\u001b[0m                            Traceback (most recent call last)",
      "\u001b[1;32m~\\AppData\\Local\\Temp/ipykernel_5564/2324398376.py\u001b[0m in \u001b[0;36m<module>\u001b[1;34m\u001b[0m\n\u001b[1;32m----> 1\u001b[1;33m \u001b[0mnt\u001b[0m\u001b[1;33m.\u001b[0m\u001b[0mremove\u001b[0m\u001b[1;33m(\u001b[0m\u001b[1;34m\"p\"\u001b[0m\u001b[1;33m)\u001b[0m\u001b[1;33m\u001b[0m\u001b[1;33m\u001b[0m\u001b[0m\n\u001b[0m",
      "\u001b[1;31mAttributeError\u001b[0m: 'tuple' object has no attribute 'remove'"
     ]
    }
   ],
   "source": [
    "nt.remove(\"p\")"
   ]
  },
  {
   "cell_type": "code",
   "execution_count": 53,
   "id": "7cff60d2",
   "metadata": {},
   "outputs": [
    {
     "ename": "TypeError",
     "evalue": "'tuple' object does not support item assignment",
     "output_type": "error",
     "traceback": [
      "\u001b[1;31m---------------------------------------------------------------------------\u001b[0m",
      "\u001b[1;31mTypeError\u001b[0m                                 Traceback (most recent call last)",
      "\u001b[1;32m~\\AppData\\Local\\Temp/ipykernel_5564/942264134.py\u001b[0m in \u001b[0;36m<module>\u001b[1;34m\u001b[0m\n\u001b[1;32m----> 1\u001b[1;33m \u001b[0mnt\u001b[0m\u001b[1;33m[\u001b[0m\u001b[1;36m1\u001b[0m\u001b[1;33m]\u001b[0m\u001b[1;33m=\u001b[0m\u001b[1;36m5\u001b[0m\u001b[1;33m\u001b[0m\u001b[1;33m\u001b[0m\u001b[0m\n\u001b[0m",
      "\u001b[1;31mTypeError\u001b[0m: 'tuple' object does not support item assignment"
     ]
    }
   ],
   "source": [
    "nt[1]=5"
   ]
  },
  {
   "cell_type": "code",
   "execution_count": 54,
   "id": "ae59c33a",
   "metadata": {},
   "outputs": [
    {
     "name": "stdout",
     "output_type": "stream",
     "text": [
      "('p', 'r', 'o', 'b', 'l', 'e', 'm', 7, 8, 6)\n"
     ]
    }
   ],
   "source": [
    "print(nt+(7,8,6))"
   ]
  },
  {
   "cell_type": "code",
   "execution_count": 55,
   "id": "2e780afc",
   "metadata": {},
   "outputs": [
    {
     "ename": "TypeError",
     "evalue": "'tuple' object doesn't support item deletion",
     "output_type": "error",
     "traceback": [
      "\u001b[1;31m---------------------------------------------------------------------------\u001b[0m",
      "\u001b[1;31mTypeError\u001b[0m                                 Traceback (most recent call last)",
      "\u001b[1;32m~\\AppData\\Local\\Temp/ipykernel_5564/1531586073.py\u001b[0m in \u001b[0;36m<module>\u001b[1;34m\u001b[0m\n\u001b[1;32m----> 1\u001b[1;33m \u001b[1;32mdel\u001b[0m \u001b[0mnt\u001b[0m\u001b[1;33m[\u001b[0m\u001b[1;36m5\u001b[0m\u001b[1;33m]\u001b[0m\u001b[1;33m\u001b[0m\u001b[1;33m\u001b[0m\u001b[0m\n\u001b[0m",
      "\u001b[1;31mTypeError\u001b[0m: 'tuple' object doesn't support item deletion"
     ]
    }
   ],
   "source": [
    "del nt[5]"
   ]
  },
  {
   "cell_type": "code",
   "execution_count": 56,
   "id": "2f333729",
   "metadata": {},
   "outputs": [
    {
     "data": {
      "text/plain": [
       "3"
      ]
     },
     "execution_count": 56,
     "metadata": {},
     "output_type": "execute_result"
    }
   ],
   "source": [
    "nt.index(\"b\")"
   ]
  },
  {
   "cell_type": "code",
   "execution_count": 57,
   "id": "c95c9686",
   "metadata": {},
   "outputs": [
    {
     "data": {
      "text/plain": [
       "True"
      ]
     },
     "execution_count": 57,
     "metadata": {},
     "output_type": "execute_result"
    }
   ],
   "source": [
    "\"m\" in nt"
   ]
  },
  {
   "cell_type": "code",
   "execution_count": 58,
   "id": "b1efbbc8",
   "metadata": {},
   "outputs": [
    {
     "ename": "TypeError",
     "evalue": "'str' object does not support item assignment",
     "output_type": "error",
     "traceback": [
      "\u001b[1;31m---------------------------------------------------------------------------\u001b[0m",
      "\u001b[1;31mTypeError\u001b[0m                                 Traceback (most recent call last)",
      "\u001b[1;32m~\\AppData\\Local\\Temp/ipykernel_5564/1449501509.py\u001b[0m in \u001b[0;36m<module>\u001b[1;34m\u001b[0m\n\u001b[0;32m      1\u001b[0m \u001b[0mstr\u001b[0m\u001b[1;33m=\u001b[0m\u001b[1;34m\"problem\"\u001b[0m\u001b[1;33m\u001b[0m\u001b[1;33m\u001b[0m\u001b[0m\n\u001b[1;32m----> 2\u001b[1;33m \u001b[0mstr\u001b[0m\u001b[1;33m[\u001b[0m\u001b[1;36m2\u001b[0m\u001b[1;33m]\u001b[0m\u001b[1;33m=\u001b[0m\u001b[1;34m\"k\"\u001b[0m\u001b[1;33m\u001b[0m\u001b[1;33m\u001b[0m\u001b[0m\n\u001b[0m",
      "\u001b[1;31mTypeError\u001b[0m: 'str' object does not support item assignment"
     ]
    }
   ],
   "source": [
    "str=\"problem\"\n",
    "str[2]=\"k\""
   ]
  },
  {
   "cell_type": "code",
   "execution_count": 60,
   "id": "45d72147",
   "metadata": {},
   "outputs": [
    {
     "ename": "NameError",
     "evalue": "name 'str' is not defined",
     "output_type": "error",
     "traceback": [
      "\u001b[1;31m---------------------------------------------------------------------------\u001b[0m",
      "\u001b[1;31mNameError\u001b[0m                                 Traceback (most recent call last)",
      "\u001b[1;32m~\\AppData\\Local\\Temp/ipykernel_5564/4200711742.py\u001b[0m in \u001b[0;36m<module>\u001b[1;34m\u001b[0m\n\u001b[1;32m----> 1\u001b[1;33m \u001b[1;32mdel\u001b[0m \u001b[0mstr\u001b[0m\u001b[1;33m\u001b[0m\u001b[1;33m\u001b[0m\u001b[0m\n\u001b[0m\u001b[0;32m      2\u001b[0m \u001b[0mstr\u001b[0m\u001b[1;33m\u001b[0m\u001b[1;33m\u001b[0m\u001b[0m\n",
      "\u001b[1;31mNameError\u001b[0m: name 'str' is not defined"
     ]
    }
   ],
   "source": [
    "del str\n",
    "str"
   ]
  },
  {
   "cell_type": "code",
   "execution_count": 63,
   "id": "ec87d682",
   "metadata": {},
   "outputs": [
    {
     "data": {
      "text/plain": [
       "'problem'"
      ]
     },
     "execution_count": 63,
     "metadata": {},
     "output_type": "execute_result"
    }
   ],
   "source": [
    "str=\"Problem\"\n",
    "str.lower()"
   ]
  },
  {
   "cell_type": "code",
   "execution_count": 64,
   "id": "fd29ac94",
   "metadata": {},
   "outputs": [
    {
     "data": {
      "text/plain": [
       "'PROBLEM'"
      ]
     },
     "execution_count": 64,
     "metadata": {},
     "output_type": "execute_result"
    }
   ],
   "source": [
    "str=\"Problem\"\n",
    "str.upper()"
   ]
  },
  {
   "cell_type": "code",
   "execution_count": 65,
   "id": "1f1aeb61",
   "metadata": {},
   "outputs": [
    {
     "data": {
      "text/plain": [
       "'PNext rNext oNext bNext lNext eNext m'"
      ]
     },
     "execution_count": 65,
     "metadata": {},
     "output_type": "execute_result"
    }
   ],
   "source": [
    "\"Next \". join(str)"
   ]
  },
  {
   "cell_type": "code",
   "execution_count": 66,
   "id": "4b6e0a2d",
   "metadata": {},
   "outputs": [
    {
     "data": {
      "text/plain": [
       "'P* r* o* b* l* e* m'"
      ]
     },
     "execution_count": 66,
     "metadata": {},
     "output_type": "execute_result"
    }
   ],
   "source": [
    "\"* \". join(str)"
   ]
  },
  {
   "cell_type": "code",
   "execution_count": 67,
   "id": "4d66a0a3",
   "metadata": {},
   "outputs": [
    {
     "data": {
      "text/plain": [
       "'Pro5lem'"
      ]
     },
     "execution_count": 67,
     "metadata": {},
     "output_type": "execute_result"
    }
   ],
   "source": [
    "str.replace(\"b\",\"5\")"
   ]
  },
  {
   "cell_type": "code",
   "execution_count": 68,
   "id": "19c2837f",
   "metadata": {},
   "outputs": [
    {
     "data": {
      "text/plain": [
       "6"
      ]
     },
     "execution_count": 68,
     "metadata": {},
     "output_type": "execute_result"
    }
   ],
   "source": [
    "str.find(\"m\")"
   ]
  },
  {
   "cell_type": "code",
   "execution_count": 69,
   "id": "488f4730",
   "metadata": {},
   "outputs": [
    {
     "data": {
      "text/plain": [
       "'Problem'"
      ]
     },
     "execution_count": 69,
     "metadata": {},
     "output_type": "execute_result"
    }
   ],
   "source": [
    "str.format()"
   ]
  },
  {
   "cell_type": "code",
   "execution_count": 72,
   "id": "f16d8393",
   "metadata": {},
   "outputs": [
    {
     "data": {
      "text/plain": [
       "{1: 'xyz', 'age': 8}"
      ]
     },
     "execution_count": 72,
     "metadata": {},
     "output_type": "execute_result"
    }
   ],
   "source": [
    "dic={1:\"xyz\",\"age\":8}\n",
    "dic"
   ]
  },
  {
   "cell_type": "code",
   "execution_count": 73,
   "id": "6e108120",
   "metadata": {},
   "outputs": [
    {
     "name": "stdout",
     "output_type": "stream",
     "text": [
      "xyz\n"
     ]
    }
   ],
   "source": [
    "print(dic.get(1))"
   ]
  },
  {
   "cell_type": "code",
   "execution_count": 74,
   "id": "b6e0227b",
   "metadata": {},
   "outputs": [
    {
     "data": {
      "text/plain": [
       "8"
      ]
     },
     "execution_count": 74,
     "metadata": {},
     "output_type": "execute_result"
    }
   ],
   "source": [
    "dic[\"age\"]"
   ]
  },
  {
   "cell_type": "code",
   "execution_count": 76,
   "id": "a7fadf7e",
   "metadata": {},
   "outputs": [
    {
     "data": {
      "text/plain": [
       "{1: 'xyz', 'age': 8, 'name': 'pooja'}"
      ]
     },
     "execution_count": 76,
     "metadata": {},
     "output_type": "execute_result"
    }
   ],
   "source": [
    "dic[\"name\"]=\"pooja\"\n",
    "dic"
   ]
  },
  {
   "cell_type": "code",
   "execution_count": 77,
   "id": "7e726380",
   "metadata": {},
   "outputs": [
    {
     "data": {
      "text/plain": [
       "{1: 'das', 'age': 8, 'name': 'pooja'}"
      ]
     },
     "execution_count": 77,
     "metadata": {},
     "output_type": "execute_result"
    }
   ],
   "source": [
    "dic[1]=\"das\"\n",
    "dic"
   ]
  },
  {
   "cell_type": "code",
   "execution_count": 78,
   "id": "299bd187",
   "metadata": {},
   "outputs": [
    {
     "data": {
      "text/plain": [
       "{'age': 8, 'name': 'pooja'}"
      ]
     },
     "execution_count": 78,
     "metadata": {},
     "output_type": "execute_result"
    }
   ],
   "source": [
    "dic.pop(1)\n",
    "dic"
   ]
  },
  {
   "cell_type": "code",
   "execution_count": 79,
   "id": "ac491bab",
   "metadata": {},
   "outputs": [
    {
     "data": {
      "text/plain": [
       "False"
      ]
     },
     "execution_count": 79,
     "metadata": {},
     "output_type": "execute_result"
    }
   ],
   "source": [
    "1 in  dic"
   ]
  },
  {
   "cell_type": "code",
   "execution_count": 86,
   "id": "107f35a1",
   "metadata": {},
   "outputs": [
    {
     "data": {
      "text/plain": [
       "dict_keys(['age', 'name'])"
      ]
     },
     "execution_count": 86,
     "metadata": {},
     "output_type": "execute_result"
    }
   ],
   "source": [
    "dic.keys()"
   ]
  },
  {
   "cell_type": "code",
   "execution_count": 87,
   "id": "0430946c",
   "metadata": {},
   "outputs": [
    {
     "data": {
      "text/plain": [
       "dict_values([8, 'pooja'])"
      ]
     },
     "execution_count": 87,
     "metadata": {},
     "output_type": "execute_result"
    }
   ],
   "source": [
    "dic.values()"
   ]
  },
  {
   "cell_type": "code",
   "execution_count": 93,
   "id": "aa839ca3",
   "metadata": {},
   "outputs": [
    {
     "data": {
      "text/plain": [
       "[5, 7, 9, 11]"
      ]
     },
     "execution_count": 93,
     "metadata": {},
     "output_type": "execute_result"
    }
   ],
   "source": [
    "n=[1,3,5,7,9,11,13]\n",
    "n[2:-1]"
   ]
  },
  {
   "cell_type": "code",
   "execution_count": 90,
   "id": "a58ea88a",
   "metadata": {},
   "outputs": [
    {
     "data": {
      "text/plain": [
       "[7, 9, 11]"
      ]
     },
     "execution_count": 90,
     "metadata": {},
     "output_type": "execute_result"
    }
   ],
   "source": [
    "n[3:-1]"
   ]
  },
  {
   "cell_type": "code",
   "execution_count": 91,
   "id": "45ee7f54",
   "metadata": {},
   "outputs": [
    {
     "data": {
      "text/plain": [
       "[3, 5, 7, 9]"
      ]
     },
     "execution_count": 91,
     "metadata": {},
     "output_type": "execute_result"
    }
   ],
   "source": [
    "n[1:-2]"
   ]
  },
  {
   "cell_type": "code",
   "execution_count": null,
   "id": "4c1bbd1b",
   "metadata": {},
   "outputs": [],
   "source": []
  }
 ],
 "metadata": {
  "kernelspec": {
   "display_name": "Python 3 (ipykernel)",
   "language": "python",
   "name": "python3"
  },
  "language_info": {
   "codemirror_mode": {
    "name": "ipython",
    "version": 3
   },
   "file_extension": ".py",
   "mimetype": "text/x-python",
   "name": "python",
   "nbconvert_exporter": "python",
   "pygments_lexer": "ipython3",
   "version": "3.9.7"
  }
 },
 "nbformat": 4,
 "nbformat_minor": 5
}
