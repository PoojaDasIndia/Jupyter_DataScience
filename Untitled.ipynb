{
 "cells": [
  {
   "cell_type": "markdown",
   "id": "3b382992",
   "metadata": {},
   "source": [
    "## Exercise - Data Analysis for Vacation Planning\n",
    "\n",
    "You're planning a vacation, and you need to decide which city you want to visit. You have shortlisted four cities and identified the return flight cost, daily hotel cost, and weekly car rental cost. While renting a car, you need to pay for entire weeks, even if you return the car sooner.\n",
    "\n",
    "\n",
    "| City | Return Flight (`$`) | Hotel per day (`$`) | Weekly Car Rental  (`$`) | \n",
    "|------|--------------------------|------------------|------------------------|\n",
    "| Paris|       200                |       20         |          200           |\n",
    "| London|      250                |       30         |          120           |\n",
    "| Dubai|       370                |       15         |          80           |\n",
    "| Mumbai|      450                |       10         |          70           |         \n",
    "\n",
    "\n",
    "Answer the following questions using the data above:\n",
    "\n",
    "1. If you're planning a 1-week long trip, which city should you visit to spend the least amount of money?\n",
    "2. How does the answer to the previous question change if you change the trip's duration to four days, ten days or two weeks?\n",
    "3. If your total budget for the trip is `$1000`, which city should you visit to maximize the duration of your trip? Which city should you visit if you want to minimize the duration?\n",
    "4. How does the answer to the previous question change if your budget is `$600`, `$2000`, or `$1500`?\n",
    "\n",
    "*Hint: To answer these questions, it will help to define a function `cost_of_trip` with relevant inputs like flight cost, hotel rate, car rental rate, and duration of the trip. You may find the `math.ceil` function useful for calculating the total cost of car rental.*"
   ]
  },
  {
   "cell_type": "code",
   "execution_count": 75,
   "id": "c001db1f",
   "metadata": {},
   "outputs": [],
   "source": [
    "import math\n",
    "def cost_of_trip(cities,duration_of_trip_per_day=0,budget=0):\n",
    "    \n",
    "    total_cost = [0]* len(cities) # [0,0,0,0]\n",
    "#     print(total_cost)\n",
    "    i = 0\n",
    "    \n",
    "    \n",
    "    if budget==0:\n",
    "        for city in cities:\n",
    "            total_cost[i] = (city['return_flight'] + city['hotel_rate']*duration_of_trip_per_day +  \n",
    "                             city['car_rental_rate']*math.ceil(duration_of_trip_per_day/7))\n",
    "            i=i+1\n",
    "\n",
    "#If we want to spend minimum money on 7-days trip\n",
    "        print(total_cost)\n",
    "        cost = min(total_cost)\n",
    "        index = total_cost.index(cost)\n",
    "        print(cost,cities[index][\"city_name\"])\n",
    "        print(\"\\n Spend Minimum prices on '{}' days trip.You can visit '{}',just cost ${} for trip.\".format(duration_of_trip_per_day,cities[index][\"city_name\"],cost))\n",
    "        \n",
    "    else:\n",
    "    \n",
    "        duration_of_trip_per_day = [1]* len(cities)  # one day trip atleast that [1]*4=[1,1,1,1]\n",
    "        \n",
    "        for city in cities:\n",
    "            while True: \n",
    "                total_cost[i] = (city['return_flight'] + city['hotel_rate']*duration_of_trip_per_day[i] +\n",
    "                                 city['car_rental_rate']*math.ceil(duration_of_trip_per_day[i]/7))\n",
    "                \n",
    "                if total_cost[i] > budget:\n",
    "                    duration_of_trip_per_day[i]-=1\n",
    "                    \n",
    "#                     total_cost[i] = (city['return_flight'] + city['hotel_rate']*(duration_of_trip_per_day[i]) + \n",
    "#                                      city['car_rental_rate']*math.ceil(duration_of_trip_per_day[i]/7))\n",
    "                    break\n",
    "                   \n",
    "                else:\n",
    "                     duration_of_trip_per_day[i] += 1\n",
    "            i += 1\n",
    "            \n",
    "# For long outing in budget\n",
    "        maxi_days = max(duration_of_trip_per_day)\n",
    "    \n",
    "        if maxi_days==0:\n",
    "            print(\"\\nFor budget ${} Sorry!! you cant visit anywhere \".format(budget))\n",
    "        else:\n",
    "    \n",
    "            index_max = duration_of_trip_per_day.index(maxi_days)\n",
    "\n",
    "            print(\"\\nFor budget ${} \".format(budget))\n",
    "            print(\"You should visit '{}' , for '{}' days, costing ${} (Max Days)\".format(cities[index_max][\"city_name\"],\n",
    "                                                                                         maxi_days,total_cost[index_max]))\n",
    "\n",
    "# For short outing in budget\n",
    "            mini_days = min(duration_of_trip_per_day)\n",
    "            index_min = duration_of_trip_per_day.index(mini_days)\n",
    "            print(\"You should visit '{}' , for '{}' days, costing ${} (Min Days)\".format(cities[index_min][\"city_name\"],mini_days,total_cost[index_min]))\n",
    "        \n",
    "    \n",
    "places=[{'city_name' : \"Paris\",'return_flight' : 200,'hotel_rate' : 20, 'car_rental_rate' : 200},\n",
    "        {'city_name' : \"London\",'return_flight' : 250,'hotel_rate' : 30, 'car_rental_rate' : 120},\n",
    "        {'city_name' : \"Dubai\",'return_flight' : 370,'hotel_rate' : 15, 'car_rental_rate' : 80},\n",
    "        {'city_name' : \"Mumbai\",'return_flight' : 450,'hotel_rate' : 10, 'car_rental_rate' : 70}]  \n"
   ]
  },
  {
   "cell_type": "code",
   "execution_count": 76,
   "id": "8a7ba48d",
   "metadata": {},
   "outputs": [
    {
     "name": "stdout",
     "output_type": "stream",
     "text": [
      "[540, 580, 555, 590]\n",
      "540 Paris\n",
      "\n",
      " Spend Minimum prices on '7' days trip.You can visit 'Paris',just cost $540 for trip.\n"
     ]
    }
   ],
   "source": [
    "cost_of_trip(cities=places,duration_of_trip_per_day=7)"
   ]
  },
  {
   "cell_type": "code",
   "execution_count": 83,
   "id": "0fa17ba3",
   "metadata": {},
   "outputs": [
    {
     "name": "stdout",
     "output_type": "stream",
     "text": [
      "******************************duration of trip 4 days************************************\n",
      "[480, 490, 510, 560]\n",
      "480 Paris\n",
      "\n",
      " Spend Minimum prices on '4' days trip.You can visit 'Paris',just cost $480 for trip.\n",
      "******************************duration of trip 10**************************************\n",
      "[800, 790, 680, 690]\n",
      "680 Dubai\n",
      "\n",
      " Spend Minimum prices on '10' days trip.You can visit 'Dubai',just cost $680 for trip.\n",
      "******************************duration of trip 14 days(2week)************************************\n",
      "[880, 910, 740, 730]\n",
      "730 Mumbai\n",
      "\n",
      " Spend Minimum prices on '14' days trip.You can visit 'Mumbai',just cost $730 for trip.\n"
     ]
    }
   ],
   "source": [
    "print(\"******************************duration of trip 4 days************************************\")\n",
    "cost_of_trip(cities=places,duration_of_trip_per_day=4)\n",
    "\n",
    "print(\"******************************duration of trip 10**************************************\")\n",
    "cost_of_trip(cities=places,duration_of_trip_per_day=10)\n",
    "\n",
    "print(\"******************************duration of trip 14 days(2week)************************************\")\n",
    "cost_of_trip(cities=places,duration_of_trip_per_day=14) "
   ]
  },
  {
   "cell_type": "code",
   "execution_count": 78,
   "id": "86654438",
   "metadata": {},
   "outputs": [
    {
     "name": "stdout",
     "output_type": "stream",
     "text": [
      "\n",
      "For budget $50 Sorry!! you cant visit anywhere \n"
     ]
    }
   ],
   "source": [
    "cost_of_trip(cities=places,budget=50)"
   ]
  },
  {
   "cell_type": "code",
   "execution_count": 74,
   "id": "bd571f8c",
   "metadata": {},
   "outputs": [
    {
     "name": "stdout",
     "output_type": "stream",
     "text": [
      "********************************budget of trip is $600****************************\n",
      "\n",
      "For budget $600 \n",
      "You should visit 'Paris' , for '7' days, costing $760 (Max Days)\n",
      "You should visit 'Paris' , for '7' days, costing $760 (Min Days)\n",
      "********************************budget of trip is $2000****************************\n",
      "\n",
      "For budget $2000 \n",
      "You should visit 'Mumbai' , for '77' days, costing $2070 (Max Days)\n",
      "You should visit 'Paris' , for '35' days, costing $2120 (Min Days)\n",
      "********************************budget of trip is $1500****************************\n",
      "\n",
      "For budget $1500 \n",
      "You should visit 'Mumbai' , for '49' days, costing $1510 (Max Days)\n",
      "You should visit 'Paris' , for '25' days, costing $1520 (Min Days)\n"
     ]
    }
   ],
   "source": [
    "print(\"********************************budget of trip is $600****************************\")\n",
    "cost_of_trip(cities=places,budget=600) \n",
    "\n",
    "print(\"********************************budget of trip is $2000****************************\")\n",
    "cost_of_trip(cities=places,budget=2000) \n",
    "\n",
    "print(\"********************************budget of trip is $1500****************************\")\n",
    "cost_of_trip(cities=places,budget=1500) "
   ]
  },
  {
   "cell_type": "code",
   "execution_count": 34,
   "id": "7988631c",
   "metadata": {},
   "outputs": [
    {
     "data": {
      "text/plain": [
       "[0, 0, 0, 0]"
      ]
     },
     "execution_count": 34,
     "metadata": {},
     "output_type": "execute_result"
    }
   ],
   "source": [
    "[0]* 4"
   ]
  },
  {
   "cell_type": "code",
   "execution_count": 35,
   "id": "68f8361e",
   "metadata": {},
   "outputs": [
    {
     "data": {
      "text/plain": [
       "[1, 1, 1, 1]"
      ]
     },
     "execution_count": 35,
     "metadata": {},
     "output_type": "execute_result"
    }
   ],
   "source": [
    "[1]*4"
   ]
  },
  {
   "cell_type": "code",
   "execution_count": 84,
   "id": "507cc7c2",
   "metadata": {},
   "outputs": [
    {
     "name": "stdout",
     "output_type": "stream",
     "text": [
      "Well Done!\n"
     ]
    }
   ],
   "source": [
    "if {None: None}:\n",
    "    print(\"Well Done!\")\n",
    "else:\n",
    "    print(\"Wrong\")"
   ]
  },
  {
   "cell_type": "code",
   "execution_count": 85,
   "id": "bfec420d",
   "metadata": {},
   "outputs": [
    {
     "data": {
      "text/plain": [
       "'Odd'"
      ]
     },
     "execution_count": 85,
     "metadata": {},
     "output_type": "execute_result"
    }
   ],
   "source": [
    "a=5\n",
    "'Even' if a % 2 == 0 else 'Odd'"
   ]
  },
  {
   "cell_type": "code",
   "execution_count": 86,
   "id": "d395559d",
   "metadata": {},
   "outputs": [
    {
     "data": {
      "text/plain": [
       "'Odd'"
      ]
     },
     "execution_count": 86,
     "metadata": {},
     "output_type": "execute_result"
    }
   ],
   "source": [
    "'Odd' if a % 2 != 0 else 'Even'"
   ]
  },
  {
   "cell_type": "code",
   "execution_count": 87,
   "id": "61914ed8",
   "metadata": {},
   "outputs": [
    {
     "name": "stdout",
     "output_type": "stream",
     "text": [
      "Even\n"
     ]
    }
   ],
   "source": [
    "if not a%2 == 0:\n",
    "    print(\"Even\")\n",
    "else:\n",
    "    print(\"Odd\")"
   ]
  },
  {
   "cell_type": "code",
   "execution_count": null,
   "id": "78e0881f",
   "metadata": {},
   "outputs": [],
   "source": [
    "result = 1\n",
    "i = 1\n",
    "\n",
    "while i <= 100:\n",
    "    result = result * i\n",
    "print(result)"
   ]
  },
  {
   "cell_type": "code",
   "execution_count": 89,
   "id": "cfca2805",
   "metadata": {},
   "outputs": [
    {
     "name": "stdout",
     "output_type": "stream",
     "text": [
      "21\n"
     ]
    }
   ],
   "source": [
    "i = 1\n",
    "j = 0\n",
    "while 1:\n",
    "    i+=1\n",
    "    if i%2 == 0:\n",
    "        continue\n",
    "    j+=1\n",
    "    if i > 10:\n",
    "        break\n",
    "c = i + j*2\n",
    "print(c)"
   ]
  },
  {
   "cell_type": "code",
   "execution_count": 90,
   "id": "394a2458",
   "metadata": {},
   "outputs": [],
   "source": [
    "li=[4,8,9]"
   ]
  },
  {
   "cell_type": "code",
   "execution_count": 91,
   "id": "b5dc404a",
   "metadata": {},
   "outputs": [
    {
     "name": "stdout",
     "output_type": "stream",
     "text": [
      "21\n"
     ]
    }
   ],
   "source": [
    "from functools import reduce\n",
    "print(reduce(lambda x,y : x+y,li))"
   ]
  },
  {
   "cell_type": "code",
   "execution_count": 92,
   "id": "f8196fc4",
   "metadata": {},
   "outputs": [
    {
     "name": "stdout",
     "output_type": "stream",
     "text": [
      "21\n"
     ]
    }
   ],
   "source": [
    "from operator import add\n",
    "from itertools import accumulate\n",
    "print(list(accumulate(li,add))[-1])"
   ]
  },
  {
   "cell_type": "code",
   "execution_count": 94,
   "id": "4203283d",
   "metadata": {},
   "outputs": [
    {
     "ename": "AttributeError",
     "evalue": "'list' object has no attribute 'sum'",
     "output_type": "error",
     "traceback": [
      "\u001b[1;31m---------------------------------------------------------------------------\u001b[0m",
      "\u001b[1;31mAttributeError\u001b[0m                            Traceback (most recent call last)",
      "\u001b[1;32m~\\AppData\\Local\\Temp/ipykernel_5224/1980994929.py\u001b[0m in \u001b[0;36m<module>\u001b[1;34m\u001b[0m\n\u001b[1;32m----> 1\u001b[1;33m \u001b[0mli\u001b[0m\u001b[1;33m.\u001b[0m\u001b[0msum\u001b[0m\u001b[1;33m(\u001b[0m\u001b[1;33m)\u001b[0m\u001b[1;33m\u001b[0m\u001b[1;33m\u001b[0m\u001b[0m\n\u001b[0m",
      "\u001b[1;31mAttributeError\u001b[0m: 'list' object has no attribute 'sum'"
     ]
    }
   ],
   "source": [
    "li.sum()"
   ]
  },
  {
   "cell_type": "code",
   "execution_count": 96,
   "id": "ec10f1de",
   "metadata": {},
   "outputs": [
    {
     "name": "stdout",
     "output_type": "stream",
     "text": [
      "21\n"
     ]
    }
   ],
   "source": [
    "def summation(li):\n",
    "    val = 0\n",
    "    for i in li:\n",
    "        val += i\n",
    "    return val\n",
    "print(summation(li))"
   ]
  },
  {
   "cell_type": "code",
   "execution_count": 97,
   "id": "71b03909",
   "metadata": {},
   "outputs": [
    {
     "name": "stdout",
     "output_type": "stream",
     "text": [
      "17\n",
      "50\n",
      "310\n"
     ]
    }
   ],
   "source": [
    "def make_multiplier(n):\n",
    "    def multiplier(x,y):\n",
    "        return x * n + y\n",
    "    return multiplier\n",
    "\n",
    "num1 = make_multiplier(6)\n",
    "num2 = make_multiplier(9)\n",
    "\n",
    "print(num1(2,5))\n",
    "print(num2(5,5))\n",
    "print(num2(num2(3,3),num1(5,10)))"
   ]
  },
  {
   "cell_type": "code",
   "execution_count": 98,
   "id": "1288c573",
   "metadata": {},
   "outputs": [
    {
     "data": {
      "text/plain": [
       "17"
      ]
     },
     "execution_count": 98,
     "metadata": {},
     "output_type": "execute_result"
    }
   ],
   "source": [
    "num1(2,5)"
   ]
  },
  {
   "cell_type": "code",
   "execution_count": 99,
   "id": "1ee8af54",
   "metadata": {},
   "outputs": [
    {
     "data": {
      "text/plain": [
       "<function __main__.make_multiplier.<locals>.multiplier(x, y)>"
      ]
     },
     "execution_count": 99,
     "metadata": {},
     "output_type": "execute_result"
    }
   ],
   "source": [
    "make_multiplier(17)"
   ]
  },
  {
   "cell_type": "code",
   "execution_count": 103,
   "id": "485eb455",
   "metadata": {},
   "outputs": [
    {
     "name": "stdout",
     "output_type": "stream",
     "text": [
      "5 4 3 2 1\n",
      "5 4 3 2 1\n",
      "5 4 3 2 1\n",
      "5 4 3 2 1\n",
      "5 4 3 2 1\n"
     ]
    }
   ],
   "source": [
    "li = [[(i+1) for i in range(5)] for j in range(5)]\n",
    "for line in li:\n",
    "    print(*line[::-1])"
   ]
  },
  {
   "cell_type": "code",
   "execution_count": 101,
   "id": "a8e91e5a",
   "metadata": {},
   "outputs": [
    {
     "data": {
      "text/plain": [
       "[[1, 2, 3, 4, 5],\n",
       " [1, 2, 3, 4, 5],\n",
       " [1, 2, 3, 4, 5],\n",
       " [1, 2, 3, 4, 5],\n",
       " [1, 2, 3, 4, 5]]"
      ]
     },
     "execution_count": 101,
     "metadata": {},
     "output_type": "execute_result"
    }
   ],
   "source": [
    "li"
   ]
  },
  {
   "cell_type": "code",
   "execution_count": 104,
   "id": "2bbdfc98",
   "metadata": {},
   "outputs": [
    {
     "name": "stdout",
     "output_type": "stream",
     "text": [
      "<class 'float'>\n",
      "0.0\n",
      "<class 'int'>\n"
     ]
    },
    {
     "ename": "ZeroDivisionError",
     "evalue": "integer division or modulo by zero",
     "output_type": "error",
     "traceback": [
      "\u001b[1;31m---------------------------------------------------------------------------\u001b[0m",
      "\u001b[1;31mZeroDivisionError\u001b[0m                         Traceback (most recent call last)",
      "\u001b[1;32m~\\AppData\\Local\\Temp/ipykernel_5224/4136144777.py\u001b[0m in \u001b[0;36m<module>\u001b[1;34m\u001b[0m\n\u001b[0;32m      2\u001b[0m \u001b[0mprint\u001b[0m\u001b[1;33m(\u001b[0m\u001b[1;32mFalse\u001b[0m \u001b[1;33m/\u001b[0m \u001b[1;32mTrue\u001b[0m\u001b[1;33m)\u001b[0m\u001b[1;33m\u001b[0m\u001b[1;33m\u001b[0m\u001b[0m\n\u001b[0;32m      3\u001b[0m \u001b[0mprint\u001b[0m\u001b[1;33m(\u001b[0m\u001b[0mtype\u001b[0m\u001b[1;33m(\u001b[0m\u001b[1;36m5\u001b[0m \u001b[1;33m//\u001b[0m \u001b[1;36m2\u001b[0m\u001b[1;33m)\u001b[0m\u001b[1;33m)\u001b[0m\u001b[1;33m\u001b[0m\u001b[1;33m\u001b[0m\u001b[0m\n\u001b[1;32m----> 4\u001b[1;33m \u001b[0mprint\u001b[0m\u001b[1;33m(\u001b[0m\u001b[0mtype\u001b[0m\u001b[1;33m(\u001b[0m\u001b[1;32mFalse\u001b[0m \u001b[1;33m//\u001b[0m \u001b[1;32mFalse\u001b[0m\u001b[1;33m)\u001b[0m\u001b[1;33m)\u001b[0m\u001b[1;33m\u001b[0m\u001b[1;33m\u001b[0m\u001b[0m\n\u001b[0m\u001b[0;32m      5\u001b[0m \u001b[0mprint\u001b[0m\u001b[1;33m(\u001b[0m\u001b[0mtype\u001b[0m\u001b[1;33m(\u001b[0m\u001b[1;36m124\u001b[0m \u001b[1;33m/\u001b[0m \u001b[1;36m2\u001b[0m\u001b[1;33m)\u001b[0m\u001b[1;33m)\u001b[0m\u001b[1;33m\u001b[0m\u001b[1;33m\u001b[0m\u001b[0m\n\u001b[0;32m      6\u001b[0m \u001b[0mprint\u001b[0m\u001b[1;33m(\u001b[0m\u001b[0mtype\u001b[0m\u001b[1;33m(\u001b[0m\u001b[1;36m5.3\u001b[0m \u001b[1;33m//\u001b[0m \u001b[1;36m2\u001b[0m\u001b[1;33m)\u001b[0m\u001b[1;33m)\u001b[0m\u001b[1;33m\u001b[0m\u001b[1;33m\u001b[0m\u001b[0m\n",
      "\u001b[1;31mZeroDivisionError\u001b[0m: integer division or modulo by zero"
     ]
    }
   ],
   "source": [
    "print(type(True / True))\n",
    "print(False / True)\n",
    "print(type(5 // 2))\n",
    "print(type(False // False))\n",
    "print(type(124 / 2))\n",
    "print(type(5.3 // 2))"
   ]
  },
  {
   "cell_type": "code",
   "execution_count": 106,
   "id": "379191f4",
   "metadata": {},
   "outputs": [
    {
     "name": "stdout",
     "output_type": "stream",
     "text": [
      "5\n"
     ]
    },
    {
     "data": {
      "text/plain": [
       "[True, False, False, True, False, True, False, True, False, True]"
      ]
     },
     "execution_count": 106,
     "metadata": {},
     "output_type": "execute_result"
    }
   ],
   "source": [
    "def func(x):\n",
    "    return x%2 == 0\n",
    "\n",
    "li = [2,9,5,10,11,34,57,66,93,102]\n",
    "li = list(map(func,li))\n",
    "print(sum(li))\n",
    "li"
   ]
  },
  {
   "cell_type": "code",
   "execution_count": 108,
   "id": "1320c27c",
   "metadata": {},
   "outputs": [
    {
     "name": "stdout",
     "output_type": "stream",
     "text": [
      "1 2 3 4 5 6 7 8 9 "
     ]
    }
   ],
   "source": [
    "for i in range(1,10):\n",
    "    print(i,end = \" \")"
   ]
  },
  {
   "cell_type": "code",
   "execution_count": 110,
   "id": "a66a3a85",
   "metadata": {},
   "outputs": [
    {
     "name": "stdout",
     "output_type": "stream",
     "text": [
      "1 2 3 4 5 6 7 8 9 10 "
     ]
    }
   ],
   "source": [
    "i = 1\n",
    "while i<= 10:\n",
    "    print(i,end = \" \")\n",
    "    i+=1"
   ]
  },
  {
   "cell_type": "code",
   "execution_count": 112,
   "id": "cc70ff2f",
   "metadata": {},
   "outputs": [
    {
     "name": "stdout",
     "output_type": "stream",
     "text": [
      "      *\n",
      "     * *\n",
      "    * * *\n",
      "   * * * *\n",
      "  * * * * *\n"
     ]
    }
   ],
   "source": [
    "star_list = \"\"\n",
    "for i in range(5):\n",
    "    star_list += \" *\"\n",
    "    print(\" \"*(4-i),star_list)"
   ]
  },
  {
   "cell_type": "code",
   "execution_count": 113,
   "id": "aca1d72a",
   "metadata": {},
   "outputs": [
    {
     "name": "stdout",
     "output_type": "stream",
     "text": [
      "1\n",
      "2\n",
      "3\n",
      "4\n",
      "5\n",
      "6\n",
      "7\n",
      "8\n",
      "9\n",
      "10\n",
      "11\n",
      "12\n",
      "13\n",
      "14\n",
      "15\n",
      "16\n",
      "17\n",
      "18\n",
      "19\n",
      "20\n",
      "21\n",
      "22\n",
      "23\n",
      "24\n",
      "25\n",
      "26\n",
      "27\n",
      "28\n",
      "29\n",
      "30\n",
      "31\n",
      "32\n",
      "33\n",
      "34\n",
      "35\n",
      "36\n",
      "37\n",
      "38\n",
      "39\n",
      "40\n",
      "41\n",
      "42\n",
      "43\n",
      "44\n",
      "45\n",
      "46\n",
      "47\n",
      "48\n",
      "49\n",
      "50\n",
      "51\n",
      "52\n",
      "53\n",
      "54\n",
      "55\n",
      "56\n",
      "57\n",
      "58\n",
      "59\n",
      "60\n",
      "61\n",
      "62\n",
      "63\n",
      "64\n",
      "65\n",
      "66\n",
      "67\n",
      "68\n",
      "69\n",
      "70\n",
      "71\n",
      "72\n",
      "73\n",
      "74\n",
      "75\n",
      "76\n",
      "77\n",
      "78\n",
      "79\n",
      "80\n",
      "81\n",
      "82\n",
      "83\n",
      "84\n",
      "85\n",
      "86\n",
      "87\n",
      "88\n",
      "89\n",
      "90\n",
      "91\n",
      "92\n",
      "93\n",
      "94\n",
      "95\n",
      "96\n",
      "97\n",
      "98\n",
      "99\n",
      "100\n"
     ]
    }
   ],
   "source": [
    "i = 100 \n",
    "while i != 0:\n",
    "    print(101-i)\n",
    "    i-=1"
   ]
  },
  {
   "cell_type": "code",
   "execution_count": 114,
   "id": "314b65a4",
   "metadata": {},
   "outputs": [
    {
     "name": "stdout",
     "output_type": "stream",
     "text": [
      "1\n",
      "2\n",
      "3\n",
      "4\n",
      "5\n",
      "6\n",
      "7\n",
      "8\n",
      "9\n",
      "10\n",
      "11\n",
      "12\n",
      "13\n",
      "14\n",
      "15\n",
      "16\n",
      "17\n",
      "18\n",
      "19\n",
      "20\n",
      "21\n",
      "22\n",
      "23\n",
      "24\n",
      "25\n",
      "26\n",
      "27\n",
      "28\n",
      "29\n",
      "30\n",
      "31\n",
      "32\n",
      "33\n",
      "34\n",
      "35\n",
      "36\n",
      "37\n",
      "38\n",
      "39\n",
      "40\n",
      "41\n",
      "42\n",
      "43\n",
      "44\n",
      "45\n",
      "46\n",
      "47\n",
      "48\n",
      "49\n",
      "50\n",
      "51\n",
      "52\n",
      "53\n",
      "54\n",
      "55\n",
      "56\n",
      "57\n",
      "58\n",
      "59\n",
      "60\n",
      "61\n",
      "62\n",
      "63\n",
      "64\n",
      "65\n",
      "66\n",
      "67\n",
      "68\n",
      "69\n",
      "70\n",
      "71\n",
      "72\n",
      "73\n",
      "74\n",
      "75\n",
      "76\n",
      "77\n",
      "78\n",
      "79\n",
      "80\n",
      "81\n",
      "82\n",
      "83\n",
      "84\n",
      "85\n",
      "86\n",
      "87\n",
      "88\n",
      "89\n",
      "90\n",
      "91\n",
      "92\n",
      "93\n",
      "94\n",
      "95\n",
      "96\n",
      "97\n",
      "98\n",
      "99\n",
      "100\n"
     ]
    }
   ],
   "source": [
    "for i in range(1,1000):\n",
    "    if i>100:\n",
    "        break\n",
    "    else:\n",
    "        print(i)"
   ]
  },
  {
   "cell_type": "code",
   "execution_count": 2,
   "id": "16ba2337",
   "metadata": {},
   "outputs": [
    {
     "data": {
      "text/plain": [
       "50"
      ]
     },
     "execution_count": 2,
     "metadata": {},
     "output_type": "execute_result"
    }
   ],
   "source": [
    "\n",
    "a = 2\n",
    "b = 10\n",
    "c = 20\n",
    "a * b + (c ** a // b - b) "
   ]
  },
  {
   "cell_type": "code",
   "execution_count": 5,
   "id": "801f24f8",
   "metadata": {},
   "outputs": [
    {
     "name": "stdout",
     "output_type": "stream",
     "text": [
      "Greater Than 20\n"
     ]
    }
   ],
   "source": [
    "num = 35   # Line 1 \n",
    "if num==10 and num<20:   # Line 2 \n",
    "    print(\"Between 10 and 20\")    # Line 3\n",
    "else :   # Line 4\n",
    "    print(\"Greater Than 20\")    # Line 5"
   ]
  },
  {
   "cell_type": "code",
   "execution_count": 20,
   "id": "609367d4",
   "metadata": {},
   "outputs": [
    {
     "name": "stdout",
     "output_type": "stream",
     "text": [
      "ggg\n"
     ]
    }
   ],
   "source": [
    "# variable age between 18(included) and 60(excluded)\n",
    "age=21\n",
    "if 18 <= age < 60:\n",
    "    print(\"ggg\")"
   ]
  },
  {
   "cell_type": "code",
   "execution_count": 21,
   "id": "7f17c784",
   "metadata": {},
   "outputs": [
    {
     "data": {
      "text/plain": [
       "True"
      ]
     },
     "execution_count": 21,
     "metadata": {},
     "output_type": "execute_result"
    }
   ],
   "source": [
    "\"michigan\" < \"oxford\" < \"stanford\""
   ]
  },
  {
   "cell_type": "code",
   "execution_count": 22,
   "id": "a1f68739",
   "metadata": {},
   "outputs": [
    {
     "data": {
      "text/plain": [
       "1"
      ]
     },
     "execution_count": 22,
     "metadata": {},
     "output_type": "execute_result"
    }
   ],
   "source": [
    "True + False"
   ]
  },
  {
   "cell_type": "code",
   "execution_count": 23,
   "id": "e17c803a",
   "metadata": {},
   "outputs": [
    {
     "data": {
      "text/plain": [
       "0"
      ]
     },
     "execution_count": 23,
     "metadata": {},
     "output_type": "execute_result"
    }
   ],
   "source": [
    "True * False"
   ]
  },
  {
   "cell_type": "code",
   "execution_count": 24,
   "id": "01bf99dc",
   "metadata": {},
   "outputs": [
    {
     "data": {
      "text/plain": [
       "(False, True, True)"
      ]
     },
     "execution_count": 24,
     "metadata": {},
     "output_type": "execute_result"
    }
   ],
   "source": [
    "(False and True), (False or True), (not True or not False)"
   ]
  },
  {
   "cell_type": "code",
   "execution_count": 25,
   "id": "dc21112a",
   "metadata": {},
   "outputs": [
    {
     "name": "stdout",
     "output_type": "stream",
     "text": [
      "Children\n",
      "Voting Age\n",
      "Passed Teenage\n",
      "Adulthood\n",
      "Life Cycle\n"
     ]
    }
   ],
   "source": [
    "age = 21\n",
    "if age > 3: \n",
    "    print(\"Children\")\n",
    "elif age > 16:\n",
    "    print(\"High School Student\")\n",
    "if age > 18:\n",
    "    print(\"Voting Age\")\n",
    "if age > 20:\n",
    "    print(\"Passed Teenage\")\n",
    "elif age == 21:\n",
    "    print(\"Adult\")\n",
    "if age > 30:\n",
    "    print(\"Middle Adulthood\")\n",
    "elif age > 45:\n",
    "    print(\"Late Adulthood\")\n",
    "else:\n",
    "    print(\"Adulthood\")\n",
    "if age>60:\n",
    "    print(\"Old Age\")\n",
    "else:\n",
    "    print(\"Life Cycle\")"
   ]
  },
  {
   "cell_type": "code",
   "execution_count": 27,
   "id": "bd55e77b",
   "metadata": {},
   "outputs": [
    {
     "data": {
      "text/plain": [
       "13"
      ]
     },
     "execution_count": 27,
     "metadata": {},
     "output_type": "execute_result"
    }
   ],
   "source": [
    "(13 * 5 + 65)//10"
   ]
  },
  {
   "cell_type": "code",
   "execution_count": 28,
   "id": "7fddad99",
   "metadata": {},
   "outputs": [
    {
     "name": "stdout",
     "output_type": "stream",
     "text": [
      "45.87\n"
     ]
    }
   ],
   "source": [
    "a=45.8655\n",
    "print(\"%.2f\"%a)"
   ]
  },
  {
   "cell_type": "code",
   "execution_count": 29,
   "id": "e95b657e",
   "metadata": {},
   "outputs": [
    {
     "name": "stdout",
     "output_type": "stream",
     "text": [
      "%.2f 45.8655\n"
     ]
    }
   ],
   "source": [
    "print(\"%.2f\",a)"
   ]
  },
  {
   "cell_type": "code",
   "execution_count": 31,
   "id": "9999d132",
   "metadata": {},
   "outputs": [
    {
     "name": "stdout",
     "output_type": "stream",
     "text": [
      "45.87\n"
     ]
    }
   ],
   "source": [
    "# print(\"{%.2f}\".format(a))\n",
    "print(\"{:.2f}\".format(a))"
   ]
  },
  {
   "cell_type": "code",
   "execution_count": 32,
   "id": "2b514146",
   "metadata": {},
   "outputs": [
    {
     "data": {
      "text/plain": [
       "True"
      ]
     },
     "execution_count": 32,
     "metadata": {},
     "output_type": "execute_result"
    }
   ],
   "source": [
    "True or False and False"
   ]
  },
  {
   "cell_type": "code",
   "execution_count": null,
   "id": "0b9f1920",
   "metadata": {},
   "outputs": [],
   "source": []
  }
 ],
 "metadata": {
  "kernelspec": {
   "display_name": "Python 3 (ipykernel)",
   "language": "python",
   "name": "python3"
  },
  "language_info": {
   "codemirror_mode": {
    "name": "ipython",
    "version": 3
   },
   "file_extension": ".py",
   "mimetype": "text/x-python",
   "name": "python",
   "nbconvert_exporter": "python",
   "pygments_lexer": "ipython3",
   "version": "3.9.7"
  }
 },
 "nbformat": 4,
 "nbformat_minor": 5
}
